{
 "cells": [
  {
   "cell_type": "code",
   "id": "initial_id",
   "metadata": {
    "collapsed": true,
    "ExecuteTime": {
     "end_time": "2025-08-19T15:51:53.391377Z",
     "start_time": "2025-08-19T15:51:51.540196Z"
    }
   },
   "source": [
    "import torch\n",
    "from utils.helpers import model_summary, set_seed, set_device\n",
    "from models.coordinate_models.architectures.siren import SIREN"
   ],
   "outputs": [],
   "execution_count": 1
  },
  {
   "metadata": {
    "ExecuteTime": {
     "end_time": "2025-08-19T15:51:53.453219Z",
     "start_time": "2025-08-19T15:51:53.399961Z"
    }
   },
   "cell_type": "code",
   "source": [
    "set_seed(3)\n",
    "device = set_device()\n",
    "print('Using device:', device)"
   ],
   "id": "d9e5e20d6219ff33",
   "outputs": [
    {
     "name": "stdout",
     "output_type": "stream",
     "text": [
      "Using device: cuda\n"
     ]
    }
   ],
   "execution_count": 2
  },
  {
   "metadata": {},
   "cell_type": "markdown",
   "source": "#### SIREN MODEL BASELINE",
   "id": "f1ac20f3600beee7"
  },
  {
   "metadata": {
    "ExecuteTime": {
     "end_time": "2025-08-19T15:51:53.700282Z",
     "start_time": "2025-08-19T15:51:53.608617Z"
    }
   },
   "cell_type": "code",
   "source": [
    "model = SIREN(\n",
    "    in_features=2,\n",
    "    hidden_features=256,\n",
    "    out_features=3,\n",
    "    num_layers = 5,\n",
    "    omega = 30,\n",
    "    initializer = 'SIREN',\n",
    "    activation = 'SINE',\n",
    "    residual_weight = None,\n",
    "    residual = False,\n",
    "    use_embedding = False,\n",
    "    embedding_type = 'GAUSSIAN_POSITIONAL',\n",
    "    embedding_kwargs = None\n",
    ").to(device)\n",
    "\n",
    "model_summary(model, input_size=(8,2))\n",
    "    "
   ],
   "id": "d11c618ee1957283",
   "outputs": [
    {
     "name": "stdout",
     "output_type": "stream",
     "text": [
      "==========================================================================================\n",
      "Layer (type:depth-idx)                   Output Shape              Param #\n",
      "==========================================================================================\n",
      "SIREN                                    [8, 3]                    --\n",
      "├─Sequential: 1-1                        [8, 3]                    --\n",
      "│    └─BaseLayer: 2-1                    [8, 256]                  --\n",
      "│    │    └─Linear: 3-1                  [8, 256]                  768\n",
      "│    │    └─sine_activation: 3-2         [8, 256]                  --\n",
      "│    └─BaseLayer: 2-2                    [8, 256]                  --\n",
      "│    │    └─Linear: 3-3                  [8, 256]                  65,792\n",
      "│    │    └─sine_activation: 3-4         [8, 256]                  --\n",
      "│    └─BaseLayer: 2-3                    [8, 256]                  --\n",
      "│    │    └─Linear: 3-5                  [8, 256]                  65,792\n",
      "│    │    └─sine_activation: 3-6         [8, 256]                  --\n",
      "│    └─BaseLayer: 2-4                    [8, 256]                  --\n",
      "│    │    └─Linear: 3-7                  [8, 256]                  65,792\n",
      "│    │    └─sine_activation: 3-8         [8, 256]                  --\n",
      "│    └─BaseLayer: 2-5                    [8, 3]                    --\n",
      "│    │    └─Linear: 3-9                  [8, 3]                    771\n",
      "==========================================================================================\n",
      "Total params: 198,915\n",
      "Trainable params: 198,915\n",
      "Non-trainable params: 0\n",
      "Total mult-adds (M): 1.59\n",
      "==========================================================================================\n",
      "Input size (MB): 0.00\n",
      "Forward/backward pass size (MB): 0.07\n",
      "Params size (MB): 0.80\n",
      "Estimated Total Size (MB): 0.86\n",
      "==========================================================================================\n"
     ]
    }
   ],
   "execution_count": 3
  },
  {
   "metadata": {},
   "cell_type": "markdown",
   "source": "#### SIREN MODEL RESIDUAL BASELINE",
   "id": "220515c1f6cbd738"
  },
  {
   "metadata": {
    "ExecuteTime": {
     "end_time": "2025-08-19T15:51:53.745855Z",
     "start_time": "2025-08-19T15:51:53.717191Z"
    }
   },
   "cell_type": "code",
   "source": [
    "model = SIREN(\n",
    "    in_features=2,\n",
    "    hidden_features=256,\n",
    "    out_features=3,\n",
    "    num_layers = 5,\n",
    "    omega = 30,\n",
    "    initializer = 'SIREN',\n",
    "    activation = 'SINE',\n",
    "    residual_weight = 0.5,\n",
    "    residual = True,\n",
    "    use_embedding = False,\n",
    "    embedding_type = 'GAUSSIAN_POSITIONAL',\n",
    "    embedding_kwargs = None\n",
    ").to(device)\n",
    "\n",
    "model_summary(model, input_size=(2,))\n",
    "    "
   ],
   "id": "f17b0d1d0767eb94",
   "outputs": [
    {
     "name": "stdout",
     "output_type": "stream",
     "text": [
      "==========================================================================================\n",
      "Layer (type:depth-idx)                   Output Shape              Param #\n",
      "==========================================================================================\n",
      "SIREN                                    [3]                       --\n",
      "├─Sequential: 1-1                        [3]                       --\n",
      "│    └─BaseLayer: 2-1                    [256]                     --\n",
      "│    │    └─Linear: 3-1                  [256]                     768\n",
      "│    │    └─sine_activation: 3-2         [256]                     --\n",
      "│    └─ResidualBaseBlock: 2-2            [256]                     --\n",
      "│    │    └─Linear: 3-3                  [256]                     65,792\n",
      "│    │    └─sine_activation: 3-4         [256]                     --\n",
      "│    │    └─Linear: 3-5                  [256]                     65,792\n",
      "│    │    └─sine_activation: 3-6         [256]                     --\n",
      "│    │    └─Identity: 3-7                [256]                     --\n",
      "│    └─ResidualBaseBlock: 2-3            [256]                     --\n",
      "│    │    └─Linear: 3-8                  [256]                     65,792\n",
      "│    │    └─sine_activation: 3-9         [256]                     --\n",
      "│    │    └─Linear: 3-10                 [256]                     65,792\n",
      "│    │    └─sine_activation: 3-11        [256]                     --\n",
      "│    │    └─Identity: 3-12               [256]                     --\n",
      "│    └─ResidualBaseBlock: 2-4            [256]                     --\n",
      "│    │    └─Linear: 3-13                 [256]                     65,792\n",
      "│    │    └─sine_activation: 3-14        [256]                     --\n",
      "│    │    └─Linear: 3-15                 [256]                     65,792\n",
      "│    │    └─sine_activation: 3-16        [256]                     --\n",
      "│    │    └─Identity: 3-17               [256]                     --\n",
      "│    └─BaseLayer: 2-5                    [3]                       --\n",
      "│    │    └─Linear: 3-18                 [3]                       771\n",
      "==========================================================================================\n",
      "Total params: 396,291\n",
      "Trainable params: 396,291\n",
      "Non-trainable params: 0\n",
      "Total mult-adds (M): 101.26\n",
      "==========================================================================================\n",
      "Input size (MB): 0.00\n",
      "Forward/backward pass size (MB): 0.01\n",
      "Params size (MB): 1.59\n",
      "Estimated Total Size (MB): 1.60\n",
      "==========================================================================================\n"
     ]
    }
   ],
   "execution_count": 4
  },
  {
   "metadata": {},
   "cell_type": "markdown",
   "source": "#### SIREN MODEL WITH EMBEDDING - NO RESIDUAL + GAUSSIAN",
   "id": "41da8bc29dcf2fd1"
  },
  {
   "metadata": {
    "ExecuteTime": {
     "end_time": "2025-08-19T15:51:53.776854Z",
     "start_time": "2025-08-19T15:51:53.762868Z"
    }
   },
   "cell_type": "code",
   "source": [
    "model = SIREN(\n",
    "    in_features=2,\n",
    "    hidden_features=256,\n",
    "    out_features=3,\n",
    "    num_layers = 5,\n",
    "    omega = 30,\n",
    "    initializer = 'SIREN',\n",
    "    activation = 'SINE',\n",
    "    residual_weight = False,\n",
    "    residual = False,\n",
    "    use_embedding = True,\n",
    "    embedding_type = 'GAUSSIAN_POSITIONAL',\n",
    "    embedding_kwargs = {'input_dim': 2, 'mapping_dim': 256, 'scale': 30}\n",
    ").to(device)\n",
    "\n",
    "model_summary(model, input_size=(2,))\n",
    "    "
   ],
   "id": "d2fa0d3721692fe9",
   "outputs": [
    {
     "name": "stdout",
     "output_type": "stream",
     "text": [
      "==========================================================================================\n",
      "Layer (type:depth-idx)                   Output Shape              Param #\n",
      "==========================================================================================\n",
      "SIREN                                    [3]                       --\n",
      "├─GaussianFourierEmbedding: 1-1          [256]                     --\n",
      "├─Sequential: 1-2                        [3]                       --\n",
      "│    └─BaseLayer: 2-1                    [256]                     --\n",
      "│    │    └─Linear: 3-1                  [256]                     65,792\n",
      "│    │    └─sine_activation: 3-2         [256]                     --\n",
      "│    └─BaseLayer: 2-2                    [256]                     --\n",
      "│    │    └─Linear: 3-3                  [256]                     65,792\n",
      "│    │    └─sine_activation: 3-4         [256]                     --\n",
      "│    └─BaseLayer: 2-3                    [256]                     --\n",
      "│    │    └─Linear: 3-5                  [256]                     65,792\n",
      "│    │    └─sine_activation: 3-6         [256]                     --\n",
      "│    └─BaseLayer: 2-4                    [256]                     --\n",
      "│    │    └─Linear: 3-7                  [256]                     65,792\n",
      "│    │    └─sine_activation: 3-8         [256]                     --\n",
      "│    └─BaseLayer: 2-5                    [3]                       --\n",
      "│    │    └─Linear: 3-9                  [3]                       771\n",
      "==========================================================================================\n",
      "Total params: 263,939\n",
      "Trainable params: 263,939\n",
      "Non-trainable params: 0\n",
      "Total mult-adds (M): 67.37\n",
      "==========================================================================================\n",
      "Input size (MB): 0.00\n",
      "Forward/backward pass size (MB): 0.01\n",
      "Params size (MB): 1.06\n",
      "Estimated Total Size (MB): 1.06\n",
      "==========================================================================================\n"
     ]
    }
   ],
   "execution_count": 5
  },
  {
   "metadata": {},
   "cell_type": "markdown",
   "source": "#### SIREN MODEL WITH EMBEDDING - NO RESIDUAL + POSITIONAL",
   "id": "fcad2b404b808483"
  },
  {
   "metadata": {
    "ExecuteTime": {
     "end_time": "2025-08-19T15:51:53.822605Z",
     "start_time": "2025-08-19T15:51:53.796848Z"
    }
   },
   "cell_type": "code",
   "source": [
    "model = SIREN(\n",
    "    in_features=2,\n",
    "    hidden_features=256,\n",
    "    out_features=3,\n",
    "    num_layers = 5,\n",
    "    omega = 30,\n",
    "    initializer = 'SIREN',\n",
    "    activation = 'SINE',\n",
    "    residual_weight = False,\n",
    "    residual = False,\n",
    "    use_embedding = True,\n",
    "    embedding_type = 'GENERAL_POSITIONAL',\n",
    "    embedding_kwargs = {'input_dim': 2, 'mapping_dim': 256, 'scale': 30}\n",
    ").to(device)\n",
    "\n",
    "model_summary(model, input_size=(1,2))\n",
    "    "
   ],
   "id": "b55b43ad268e1ddc",
   "outputs": [
    {
     "name": "stdout",
     "output_type": "stream",
     "text": [
      "==========================================================================================\n",
      "Layer (type:depth-idx)                   Output Shape              Param #\n",
      "==========================================================================================\n",
      "SIREN                                    [1, 3]                    --\n",
      "├─PositionalEmbedding: 1-1               [1, 512]                  --\n",
      "├─Sequential: 1-2                        [1, 3]                    --\n",
      "│    └─BaseLayer: 2-1                    [1, 256]                  --\n",
      "│    │    └─Linear: 3-1                  [1, 256]                  131,328\n",
      "│    │    └─sine_activation: 3-2         [1, 256]                  --\n",
      "│    └─BaseLayer: 2-2                    [1, 256]                  --\n",
      "│    │    └─Linear: 3-3                  [1, 256]                  65,792\n",
      "│    │    └─sine_activation: 3-4         [1, 256]                  --\n",
      "│    └─BaseLayer: 2-3                    [1, 256]                  --\n",
      "│    │    └─Linear: 3-5                  [1, 256]                  65,792\n",
      "│    │    └─sine_activation: 3-6         [1, 256]                  --\n",
      "│    └─BaseLayer: 2-4                    [1, 256]                  --\n",
      "│    │    └─Linear: 3-7                  [1, 256]                  65,792\n",
      "│    │    └─sine_activation: 3-8         [1, 256]                  --\n",
      "│    └─BaseLayer: 2-5                    [1, 3]                    --\n",
      "│    │    └─Linear: 3-9                  [1, 3]                    771\n",
      "==========================================================================================\n",
      "Total params: 329,475\n",
      "Trainable params: 329,475\n",
      "Non-trainable params: 0\n",
      "Total mult-adds (M): 0.33\n",
      "==========================================================================================\n",
      "Input size (MB): 0.00\n",
      "Forward/backward pass size (MB): 0.01\n",
      "Params size (MB): 1.32\n",
      "Estimated Total Size (MB): 1.33\n",
      "==========================================================================================\n"
     ]
    }
   ],
   "execution_count": 6
  },
  {
   "metadata": {},
   "cell_type": "markdown",
   "source": "#### SIREN MODEL WITH EMBEDDING - NO RESIDUAL + SPHERE_GRID",
   "id": "41bbc7ebfa39564a"
  },
  {
   "metadata": {
    "ExecuteTime": {
     "end_time": "2025-08-19T15:51:53.868398Z",
     "start_time": "2025-08-19T15:51:53.839136Z"
    }
   },
   "cell_type": "code",
   "source": [
    "model = SIREN(\n",
    "    in_features=2,\n",
    "    hidden_features=256,\n",
    "    out_features=3,\n",
    "    num_layers = 5,\n",
    "    omega = 30,\n",
    "    initializer = 'SIREN',\n",
    "    activation = 'SINE',\n",
    "    residual_weight = 0.6,\n",
    "    residual = True,\n",
    "    use_embedding = True,\n",
    "    embedding_type = 'SPHERE_GRID',\n",
    "    embedding_kwargs = {'scale': 10, 'r_min':0.01, 'r_max': 1.0}\n",
    ").to(device)\n",
    "\n",
    "model_summary(model, input_size=(8,2))\n",
    "    "
   ],
   "id": "f0e9c87f4e138541",
   "outputs": [
    {
     "name": "stdout",
     "output_type": "stream",
     "text": [
      "==========================================================================================\n",
      "Layer (type:depth-idx)                   Output Shape              Param #\n",
      "==========================================================================================\n",
      "SIREN                                    [8, 3]                    --\n",
      "├─SphericalGridEmbedding: 1-1            [8, 40]                   --\n",
      "├─Sequential: 1-2                        [8, 3]                    --\n",
      "│    └─BaseLayer: 2-1                    [8, 256]                  --\n",
      "│    │    └─Linear: 3-1                  [8, 256]                  10,496\n",
      "│    │    └─sine_activation: 3-2         [8, 256]                  --\n",
      "│    └─ResidualBaseBlock: 2-2            [8, 256]                  --\n",
      "│    │    └─Linear: 3-3                  [8, 256]                  65,792\n",
      "│    │    └─sine_activation: 3-4         [8, 256]                  --\n",
      "│    │    └─Linear: 3-5                  [8, 256]                  65,792\n",
      "│    │    └─sine_activation: 3-6         [8, 256]                  --\n",
      "│    │    └─Identity: 3-7                [8, 256]                  --\n",
      "│    └─ResidualBaseBlock: 2-3            [8, 256]                  --\n",
      "│    │    └─Linear: 3-8                  [8, 256]                  65,792\n",
      "│    │    └─sine_activation: 3-9         [8, 256]                  --\n",
      "│    │    └─Linear: 3-10                 [8, 256]                  65,792\n",
      "│    │    └─sine_activation: 3-11        [8, 256]                  --\n",
      "│    │    └─Identity: 3-12               [8, 256]                  --\n",
      "│    └─ResidualBaseBlock: 2-4            [8, 256]                  --\n",
      "│    │    └─Linear: 3-13                 [8, 256]                  65,792\n",
      "│    │    └─sine_activation: 3-14        [8, 256]                  --\n",
      "│    │    └─Linear: 3-15                 [8, 256]                  65,792\n",
      "│    │    └─sine_activation: 3-16        [8, 256]                  --\n",
      "│    │    └─Identity: 3-17               [8, 256]                  --\n",
      "│    └─BaseLayer: 2-5                    [8, 3]                    --\n",
      "│    │    └─Linear: 3-18                 [8, 3]                    771\n",
      "==========================================================================================\n",
      "Total params: 406,019\n",
      "Trainable params: 406,019\n",
      "Non-trainable params: 0\n",
      "Total mult-adds (M): 3.25\n",
      "==========================================================================================\n",
      "Input size (MB): 0.00\n",
      "Forward/backward pass size (MB): 0.11\n",
      "Params size (MB): 1.62\n",
      "Estimated Total Size (MB): 1.74\n",
      "==========================================================================================\n"
     ]
    }
   ],
   "execution_count": 7
  },
  {
   "metadata": {},
   "cell_type": "markdown",
   "source": "### TEST OF MODEL FACTORY AND CONFIG DICT CREATION",
   "id": "5471e391b7add523"
  },
  {
   "metadata": {
    "ExecuteTime": {
     "end_time": "2025-08-19T15:51:53.898403Z",
     "start_time": "2025-08-19T15:51:53.885368Z"
    }
   },
   "cell_type": "code",
   "source": "from models.model_factory import create_model, list_models, list_embeddings, list_initializers, list_activations, list_layers",
   "id": "118dafe8d1647bb2",
   "outputs": [],
   "execution_count": 8
  },
  {
   "metadata": {
    "ExecuteTime": {
     "end_time": "2025-08-19T15:51:53.929559Z",
     "start_time": "2025-08-19T15:51:53.917030Z"
    }
   },
   "cell_type": "code",
   "source": [
    "siren_config = {\n",
    "    \"model\": {\n",
    "        \"name\": \"siren\",\n",
    "        \"model_kwargs\": {\n",
    "            \"in_features\": 2,\n",
    "            \"hidden_features\": 256,\n",
    "            \"out_features\": 3,\n",
    "            \"num_layers\": 5,\n",
    "            \"omega\": 30,\n",
    "            \"initializer\": \"SIREN\",\n",
    "            \"activation\": \"SINE\",\n",
    "            \"residual_weight\": 0.6,\n",
    "            \"residual\": True,\n",
    "            # embedding handled separately via factory\n",
    "        }\n",
    "    },\n",
    "    \"use_embedding\": True,\n",
    "    \"embedding_name\": \"SPHERE_GRID\",   # must be registered in embeddings.py\n",
    "    \"embedding_kwargs\": {\n",
    "        \"scale\": 10,\n",
    "        \"r_min\": 0.01,\n",
    "        \"r_max\": 1.0\n",
    "    }\n",
    "}\n"
   ],
   "id": "ffa00fd9b14a2eb7",
   "outputs": [],
   "execution_count": 9
  },
  {
   "metadata": {
    "ExecuteTime": {
     "end_time": "2025-08-19T15:51:53.960329Z",
     "start_time": "2025-08-19T15:51:53.945830Z"
    }
   },
   "cell_type": "code",
   "source": [
    "print(f'Available models: {list_models()}')\n",
    "print(f'Available embeddings: {list_embeddings()}')\n",
    "print(f'Available initializers: {list_initializers()}')\n",
    "print(f'Available activations: {list_activations()}')\n",
    "print(f'Available layers: {list_layers()}')\n"
   ],
   "id": "2c9a97d7ca68eea4",
   "outputs": [
    {
     "name": "stdout",
     "output_type": "stream",
     "text": [
      "Available models: ['siren', 'neuralDMD']\n",
      "Available embeddings: ['GAUSSIAN_POSITIONAL', 'GENERAL_POSITIONAL', 'SPHERE_GRID', 'SPHERE_C', 'SPHERE_M', 'DFS', 'SPHERE_C+', 'SPHERE_M+']\n",
      "Available initializers: ['SIREN', 'FINER', 'XAVIER_UNIFORM_FINER', 'XAVIER_FINER_NORM', 'XAVIER_UNIFORM', 'XAVIER_NORMAL', 'NORMAL', 'UNIFORM', 'IDENTITY', 'ORTHOGONAL']\n",
      "Available activations: ['SINE', 'FINER', 'GAUSSIAN', 'GAUSSIAN_FINER', 'WIRE', 'WIRE_FINER', 'HOSC', 'HOSC_FINER', 'SINC', 'RELU', 'LEAKY_RELU', 'SILU', 'SIGMOID', 'TANH']\n",
      "Available layers: ['BASE', 'RESIDUAL']\n"
     ]
    }
   ],
   "execution_count": 10
  },
  {
   "metadata": {
    "ExecuteTime": {
     "end_time": "2025-08-19T15:51:54.004950Z",
     "start_time": "2025-08-19T15:51:53.978232Z"
    }
   },
   "cell_type": "code",
   "source": [
    "model = create_model(siren_config)\n",
    "model.to(device)\n",
    "model_summary(model, input_size=(8,2))"
   ],
   "id": "b4e060e17bbb048b",
   "outputs": [
    {
     "name": "stdout",
     "output_type": "stream",
     "text": [
      "==========================================================================================\n",
      "Layer (type:depth-idx)                   Output Shape              Param #\n",
      "==========================================================================================\n",
      "SIREN                                    [8, 3]                    --\n",
      "├─SphericalGridEmbedding: 1-1            [8, 40]                   --\n",
      "├─Sequential: 1-2                        [8, 3]                    --\n",
      "│    └─BaseLayer: 2-1                    [8, 256]                  --\n",
      "│    │    └─Linear: 3-1                  [8, 256]                  10,496\n",
      "│    │    └─sine_activation: 3-2         [8, 256]                  --\n",
      "│    └─ResidualBaseBlock: 2-2            [8, 256]                  --\n",
      "│    │    └─Linear: 3-3                  [8, 256]                  65,792\n",
      "│    │    └─sine_activation: 3-4         [8, 256]                  --\n",
      "│    │    └─Linear: 3-5                  [8, 256]                  65,792\n",
      "│    │    └─sine_activation: 3-6         [8, 256]                  --\n",
      "│    │    └─Identity: 3-7                [8, 256]                  --\n",
      "│    └─ResidualBaseBlock: 2-3            [8, 256]                  --\n",
      "│    │    └─Linear: 3-8                  [8, 256]                  65,792\n",
      "│    │    └─sine_activation: 3-9         [8, 256]                  --\n",
      "│    │    └─Linear: 3-10                 [8, 256]                  65,792\n",
      "│    │    └─sine_activation: 3-11        [8, 256]                  --\n",
      "│    │    └─Identity: 3-12               [8, 256]                  --\n",
      "│    └─ResidualBaseBlock: 2-4            [8, 256]                  --\n",
      "│    │    └─Linear: 3-13                 [8, 256]                  65,792\n",
      "│    │    └─sine_activation: 3-14        [8, 256]                  --\n",
      "│    │    └─Linear: 3-15                 [8, 256]                  65,792\n",
      "│    │    └─sine_activation: 3-16        [8, 256]                  --\n",
      "│    │    └─Identity: 3-17               [8, 256]                  --\n",
      "│    └─BaseLayer: 2-5                    [8, 3]                    --\n",
      "│    │    └─Linear: 3-18                 [8, 3]                    771\n",
      "==========================================================================================\n",
      "Total params: 406,019\n",
      "Trainable params: 406,019\n",
      "Non-trainable params: 0\n",
      "Total mult-adds (M): 3.25\n",
      "==========================================================================================\n",
      "Input size (MB): 0.00\n",
      "Forward/backward pass size (MB): 0.11\n",
      "Params size (MB): 1.62\n",
      "Estimated Total Size (MB): 1.74\n",
      "==========================================================================================\n"
     ]
    }
   ],
   "execution_count": 11
  },
  {
   "metadata": {
    "ExecuteTime": {
     "end_time": "2025-08-19T15:53:43.419041Z",
     "start_time": "2025-08-19T15:53:43.409549Z"
    }
   },
   "cell_type": "code",
   "source": [
    "neural_dmd_config = {\n",
    "    \"model\": {\n",
    "        \"name\": \"neuralDMD\",\n",
    "        \"model_kwargs\": {\n",
    "            \"modal_kwargs\": {\n",
    "                \"r_half\": 16,\n",
    "                \"in_features\": 2,\n",
    "                \"hidden_features\": 128,\n",
    "                \"num_layers\": 5,\n",
    "                \"initializer\": \"XAVIER_UNIFORM\",\n",
    "                \"initializer_kwargs\": {\"gain\": 1.0},\n",
    "                \"activation\": \"RELU\",\n",
    "                \"activation_kwargs\": {},\n",
    "                \"residual\": True,\n",
    "                \"residual_weight\": 0.1,\n",
    "                \"use_embedding\": True,\n",
    "                \"embedding_type\": \"GAUSSIAN_POSITIONAL\",\n",
    "                \"embedding_kwargs\": {\n",
    "                    \"input_dim\": 2,\n",
    "                    \"mapping_dim\": 256,\n",
    "                    \"scale\": 30\n",
    "                }\n",
    "            },\n",
    "            \"spectral_kwargs\": {\n",
    "                \"r_half\": 16,\n",
    "                \"in_features\": 2,\n",
    "                \"hidden_features\": 64,\n",
    "                \"num_layers\": 5,\n",
    "                \"initializer\": \"XAVIER_UNIFORM\",\n",
    "                \"initializer_kwargs\": {\"gain\": 1.0},\n",
    "                \"activation\": \"RELU\",\n",
    "                \"activation_kwargs\": {},\n",
    "                \"residual\": False,\n",
    "                \"use_embedding\": False\n",
    "            },\n",
    "            \"initial_kwargs\": {\n",
    "                \"r_half\": 16,\n",
    "                \"in_features\": 2,\n",
    "                \"hidden_features\": 64,\n",
    "                \"num_layers\": 5,\n",
    "                \"initializer\": \"XAVIER_UNIFORM\",\n",
    "                \"initializer_kwargs\": {\"gain\": 1.0},\n",
    "                \"activation\": \"RELU\",\n",
    "                \"activation_kwargs\": {},\n",
    "                \"residual\": False,\n",
    "                \"use_embedding\": False\n",
    "            }\n",
    "        }\n",
    "    },\n",
    "}\n"
   ],
   "id": "6ec22d82298646",
   "outputs": [],
   "execution_count": 15
  },
  {
   "metadata": {
    "ExecuteTime": {
     "end_time": "2025-08-19T15:53:46.174867Z",
     "start_time": "2025-08-19T15:53:46.150042Z"
    }
   },
   "cell_type": "code",
   "source": [
    "model = create_model(neural_dmd_config)\n",
    "model.to(device)\n",
    " \n",
    "\n",
    "model_summary(model, input_size=(8,3))"
   ],
   "id": "83a41a41f89a7115",
   "outputs": [
    {
     "name": "stdout",
     "output_type": "stream",
     "text": [
      "==========================================================================================\n",
      "Layer (type:depth-idx)                   Output Shape              Param #\n",
      "==========================================================================================\n",
      "NeuralDMD                                [8, 16]                   --\n",
      "├─ModalNetwork: 1-1                      [8, 1]                    --\n",
      "│    └─GaussianFourierEmbedding: 2-1     [8, 256]                  --\n",
      "│    └─Sequential: 2-2                   [8, 17]                   --\n",
      "│    │    └─BaseLayer: 3-1               [8, 128]                  32,896\n",
      "│    │    └─ResidualBaseBlock: 3-2       [8, 128]                  33,024\n",
      "│    │    └─ResidualBaseBlock: 3-3       [8, 128]                  33,024\n",
      "│    │    └─ResidualBaseBlock: 3-4       [8, 128]                  33,024\n",
      "│    │    └─BaseLayer: 3-5               [8, 17]                   2,193\n",
      "├─SpectralNetwork: 1-2                   [16]                      2\n",
      "│    └─Sequential: 2-3                   [32]                      --\n",
      "│    │    └─BaseLayer: 3-6               [64]                      192\n",
      "│    │    └─BaseLayer: 3-7               [64]                      4,160\n",
      "│    │    └─BaseLayer: 3-8               [64]                      4,160\n",
      "│    │    └─BaseLayer: 3-9               [64]                      4,160\n",
      "│    │    └─BaseLayer: 3-10              [32]                      2,080\n",
      "├─InitialStateNetwork: 1-3               [1]                       2\n",
      "│    └─Sequential: 2-4                   [33]                      --\n",
      "│    │    └─BaseLayer: 3-11              [64]                      192\n",
      "│    │    └─BaseLayer: 3-12              [64]                      4,160\n",
      "│    │    └─BaseLayer: 3-13              [64]                      4,160\n",
      "│    │    └─BaseLayer: 3-14              [64]                      4,160\n",
      "│    │    └─BaseLayer: 3-15              [33]                      2,145\n",
      "==========================================================================================\n",
      "Total params: 163,734\n",
      "Trainable params: 163,734\n",
      "Non-trainable params: 0\n",
      "Total mult-adds (M): 2.83\n",
      "==========================================================================================\n",
      "Input size (MB): 0.00\n",
      "Forward/backward pass size (MB): 0.06\n",
      "Params size (MB): 0.65\n",
      "Estimated Total Size (MB): 0.72\n",
      "==========================================================================================\n"
     ]
    }
   ],
   "execution_count": 16
  },
  {
   "metadata": {},
   "cell_type": "code",
   "outputs": [],
   "execution_count": null,
   "source": "",
   "id": "e5169c5e551d2066"
  }
 ],
 "metadata": {
  "kernelspec": {
   "display_name": "Python (geo_lab)",
   "language": "python",
   "name": "geo_lab"
  },
  "language_info": {
   "codemirror_mode": {
    "name": "ipython",
    "version": 2
   },
   "file_extension": ".py",
   "mimetype": "text/x-python",
   "name": "python",
   "nbconvert_exporter": "python",
   "pygments_lexer": "ipython2",
   "version": "2.7.6"
  }
 },
 "nbformat": 4,
 "nbformat_minor": 5
}
