{
 "cells": [
  {
   "cell_type": "code",
   "id": "initial_id",
   "metadata": {
    "collapsed": true,
    "ExecuteTime": {
     "end_time": "2025-08-18T01:01:28.979411Z",
     "start_time": "2025-08-18T01:01:27.727362Z"
    }
   },
   "source": [
    "import torch\n",
    "import inspect\n",
    "from models.coordinate_models.core import embeddings\n"
   ],
   "outputs": [],
   "execution_count": 1
  },
  {
   "metadata": {
    "ExecuteTime": {
     "end_time": "2025-08-18T01:01:29.035215Z",
     "start_time": "2025-08-18T01:01:29.031318Z"
    }
   },
   "cell_type": "code",
   "source": [
    "\n",
    "functions = [name for name, obj in inspect.getmembers(embeddings, inspect.isfunction)]\n",
    "classes = [name for name, obj in inspect.getmembers(embeddings, inspect.isclass)]\n",
    "\n",
    "print(\"Functions:\", functions)\n",
    "print(\"Classes:\", classes)"
   ],
   "id": "a0103b3f8b964ba",
   "outputs": [
    {
     "name": "stdout",
     "output_type": "stream",
     "text": [
      "Functions: []\n",
      "Classes: ['DoubleFourierSphericalEmbedding', 'GaussianFourierEmbedding', 'PositionalEmbedding', 'SphericalCartesianEmbedding', 'SphericalGridEmbedding', 'SphericalMultiScaleEmbedding']\n"
     ]
    }
   ],
   "execution_count": 2
  },
  {
   "metadata": {
    "ExecuteTime": {
     "end_time": "2025-08-18T01:01:29.126944Z",
     "start_time": "2025-08-18T01:01:29.119369Z"
    }
   },
   "cell_type": "code",
   "source": [
    "# Example coordinates (latitude, longitude)\n",
    "coords = torch.tensor([\n",
    "    [43.6532, -79.3832],  # Toronto\n",
    "    [-25.7128, 174.0060],  # NYC\n",
    "    [51.5074, -0.1278]    # London\n",
    "], dtype=torch.float32)\n",
    "\n",
    "# Convert degrees to radians\n",
    "coords_rad = coords * (torch.pi / 180)\n",
    "\n",
    "print(\"Coordinates in radians:\")\n",
    "print(coords_rad)"
   ],
   "id": "a20a16bb54d008fa",
   "outputs": [
    {
     "name": "stdout",
     "output_type": "stream",
     "text": [
      "Coordinates in radians:\n",
      "tensor([[ 7.6189e-01, -1.3855e+00],\n",
      "        [-4.4877e-01,  3.0370e+00],\n",
      "        [ 8.9897e-01, -2.2305e-03]])\n"
     ]
    }
   ],
   "execution_count": 3
  },
  {
   "metadata": {},
   "cell_type": "markdown",
   "source": "## DoubleFourierSphericalEmbedding",
   "id": "fd91e9599f72fc06"
  },
  {
   "metadata": {
    "ExecuteTime": {
     "end_time": "2025-08-18T01:01:29.231074Z",
     "start_time": "2025-08-18T01:01:29.227762Z"
    }
   },
   "cell_type": "code",
   "source": "print(embeddings.DoubleFourierSphericalEmbedding.__init__.__doc__)",
   "id": "aaaa32c699dcb217",
   "outputs": [
    {
     "name": "stdout",
     "output_type": "stream",
     "text": [
      "\n",
      "        Initialize the DoubleFourierSphericalEmbedding module.\n",
      "\n",
      "        Args:\n",
      "            scale (int): The number of dimensions in the embeddings.\n",
      "            r_lat_min (float): The minimum radius of the latitude sphere.\n",
      "            r_lon_min (float): The minimum radius of the longitude sphere.\n",
      "            r_max (float, optional): The maximum radius of the spheres. Defaults to 1.0.\n",
      "        \n"
     ]
    }
   ],
   "execution_count": 4
  },
  {
   "metadata": {
    "ExecuteTime": {
     "end_time": "2025-08-18T01:01:29.281281Z",
     "start_time": "2025-08-18T01:01:29.276465Z"
    }
   },
   "cell_type": "code",
   "source": [
    "embedding = embeddings.DoubleFourierSphericalEmbedding(3, 0.1, 1.0)\n",
    "\n",
    "# Apply the embedding to the coordinates\n",
    "embedded_coords = embedding(coords_rad)\n",
    "print(f\"input shape: {coords_rad.shape}\")\n",
    "print(f\"output shape: {embedded_coords.shape}\")\n",
    "\n",
    "# Print the embedded coordinates\n",
    "print(\"Embedded coordinates:\")\n",
    "print(embedded_coords)"
   ],
   "id": "52e14d25110da99a",
   "outputs": [
    {
     "name": "stdout",
     "output_type": "stream",
     "text": [
      "input shape: torch.Size([3, 2])\n",
      "output shape: torch.Size([3, 48])\n",
      "Embedded coordinates:\n",
      "tensor([[ 7.6116e-02,  2.3861e-01,  6.9029e-01,  9.9710e-01,  9.7112e-01,\n",
      "          7.2353e-01, -9.8288e-01, -9.8288e-01, -9.8288e-01,  1.8424e-01,\n",
      "          1.8424e-01,  1.8424e-01,  1.8371e-01,  1.8371e-01,  1.8371e-01,\n",
      "         -9.8003e-01, -9.8003e-01, -9.8003e-01,  1.4023e-02,  1.4023e-02,\n",
      "          1.4023e-02, -7.4813e-02, -7.4813e-02, -7.4813e-02,  1.7892e-01,\n",
      "          1.7892e-01,  1.7892e-01, -9.5449e-01, -9.5449e-01, -9.5449e-01,\n",
      "          4.3961e-02,  4.3961e-02,  4.3961e-02, -2.3452e-01, -2.3452e-01,\n",
      "         -2.3452e-01,  1.3330e-01,  1.3330e-01,  1.3330e-01, -7.1115e-01,\n",
      "         -7.1115e-01, -7.1115e-01,  1.2718e-01,  1.2718e-01,  1.2718e-01,\n",
      "         -6.7847e-01, -6.7847e-01, -6.7847e-01],\n",
      "        [-4.4862e-02, -1.4144e-01, -4.3386e-01,  9.9899e-01,  9.8995e-01,\n",
      "          9.0098e-01,  1.0442e-01,  1.0442e-01,  1.0442e-01, -9.9453e-01,\n",
      "         -9.9453e-01, -9.9453e-01, -9.9353e-01, -9.9353e-01, -9.9353e-01,\n",
      "          1.0432e-01,  1.0432e-01,  1.0432e-01,  4.4617e-02,  4.4617e-02,\n",
      "          4.4617e-02, -4.6847e-03, -4.6847e-03, -4.6847e-03, -9.8453e-01,\n",
      "         -9.8453e-01, -9.8453e-01,  1.0337e-01,  1.0337e-01,  1.0337e-01,\n",
      "          1.4067e-01,  1.4067e-01,  1.4067e-01, -1.4770e-02, -1.4770e-02,\n",
      "         -1.4770e-02, -8.9605e-01, -8.9605e-01, -8.9605e-01,  9.4084e-02,\n",
      "          9.4084e-02,  9.4084e-02,  4.3149e-01,  4.3149e-01,  4.3149e-01,\n",
      "         -4.5306e-02, -4.5306e-02, -4.5306e-02],\n",
      "        [ 8.9776e-02,  2.8047e-01,  7.8269e-01,  9.9596e-01,  9.5986e-01,\n",
      "          6.2241e-01, -2.2305e-03, -2.2305e-03, -2.2305e-03,  1.0000e+00,\n",
      "          1.0000e+00,  1.0000e+00,  9.9596e-01,  9.9596e-01,  9.9596e-01,\n",
      "         -2.2215e-03, -2.2215e-03, -2.2215e-03,  8.9776e-02,  8.9776e-02,\n",
      "          8.9776e-02, -2.0025e-04, -2.0025e-04, -2.0025e-04,  9.5986e-01,\n",
      "          9.5986e-01,  9.5986e-01, -2.1410e-03, -2.1410e-03, -2.1410e-03,\n",
      "          2.8047e-01,  2.8047e-01,  2.8047e-01, -6.2559e-04, -6.2559e-04,\n",
      "         -6.2559e-04,  6.2241e-01,  6.2241e-01,  6.2241e-01, -1.3883e-03,\n",
      "         -1.3883e-03, -1.3883e-03,  7.8269e-01,  7.8269e-01,  7.8269e-01,\n",
      "         -1.7458e-03, -1.7458e-03, -1.7458e-03]])\n"
     ]
    }
   ],
   "execution_count": 5
  },
  {
   "metadata": {},
   "cell_type": "markdown",
   "source": "## GaussianFourierEmbedding",
   "id": "eebd7133331ce9af"
  },
  {
   "metadata": {
    "ExecuteTime": {
     "end_time": "2025-08-18T01:01:29.305320Z",
     "start_time": "2025-08-18T01:01:29.301968Z"
    }
   },
   "cell_type": "code",
   "source": "print(embeddings.GaussianFourierEmbedding.__init__.__doc__)",
   "id": "3eca78ddfb5a0392",
   "outputs": [
    {
     "name": "stdout",
     "output_type": "stream",
     "text": [
      "\n",
      "        Initializes the Gaussian Fourier Embedding module. following the paper https://arxiv.org/abs/2006.10739\n",
      "\n",
      "        Args:\n",
      "            input_dim (int): The input dimension.\n",
      "            mapping_dim (int): The mapping dimension.\n",
      "            scale (float): The scale parameter.\n",
      "        \n"
     ]
    }
   ],
   "execution_count": 6
  },
  {
   "metadata": {
    "ExecuteTime": {
     "end_time": "2025-08-18T01:01:29.359161Z",
     "start_time": "2025-08-18T01:01:29.353198Z"
    }
   },
   "cell_type": "code",
   "source": [
    "embedding = embeddings.GaussianFourierEmbedding(2, 64, 6)\n",
    "\n",
    "# Apply the embedding to the coordinates\n",
    "embedded_coords = embedding(coords_rad)\n",
    "print(f\"input shape: {coords_rad.shape}\")\n",
    "print(f\"output shape: {embedded_coords.shape}\")\n",
    "\n",
    "# Print the embedded coordinates\n",
    "print(\"Embedded coordinates:\")\n",
    "print(embedded_coords)"
   ],
   "id": "bca9f97df6ac9f37",
   "outputs": [
    {
     "name": "stdout",
     "output_type": "stream",
     "text": [
      "input shape: torch.Size([3, 2])\n",
      "output shape: torch.Size([3, 64])\n",
      "Embedded coordinates:\n",
      "tensor([[-1.1023e-02,  5.7790e-01,  1.8281e-01,  2.5802e-01, -9.0447e-01,\n",
      "          3.3611e-01, -1.9645e-01, -6.4572e-01,  8.6252e-01, -6.3576e-01,\n",
      "         -5.5987e-01, -5.8477e-01,  5.7830e-01, -4.9759e-01,  2.7658e-02,\n",
      "          9.8722e-01, -8.9405e-01, -2.0973e-01, -9.5683e-01, -8.4422e-01,\n",
      "         -2.7448e-03, -9.1209e-01, -3.6832e-01,  7.2163e-01, -8.8595e-01,\n",
      "         -1.0000e+00,  9.3377e-01, -8.5895e-01, -9.7047e-01, -9.7295e-01,\n",
      "         -9.5655e-01,  5.8956e-01,  9.9994e-01, -8.1611e-01, -9.8315e-01,\n",
      "         -9.6614e-01,  4.2653e-01, -9.4182e-01, -9.8051e-01, -7.6358e-01,\n",
      "          5.0602e-01,  7.7189e-01,  8.2858e-01, -8.1120e-01, -8.1582e-01,\n",
      "         -8.6741e-01,  9.9962e-01,  1.5935e-01,  4.4796e-01, -9.7776e-01,\n",
      "          2.9066e-01, -5.3600e-01,  1.0000e+00,  4.0999e-01,  9.2970e-01,\n",
      "          6.9228e-01,  4.6378e-01, -3.3171e-04, -3.5786e-01,  5.1206e-01,\n",
      "          2.4122e-01, -2.3102e-01,  2.9158e-01, -8.0772e-01],\n",
      "        [ 3.3745e-01,  9.9519e-01, -5.7293e-01, -5.3517e-01,  8.9996e-01,\n",
      "          9.5110e-01, -7.2728e-01, -8.3459e-01, -3.8868e-01, -9.5061e-01,\n",
      "          3.8246e-01, -4.7314e-01,  7.9422e-01, -9.7059e-01, -1.2373e-01,\n",
      "          8.6575e-01, -9.9852e-01, -3.8362e-01, -9.0983e-01, -3.1570e-02,\n",
      "         -4.1165e-01, -3.2359e-01, -9.8469e-01,  7.9647e-01,  9.9555e-01,\n",
      "          7.8548e-01, -3.0029e-01,  9.9975e-01,  8.0334e-01, -2.2762e-01,\n",
      "          9.9399e-01, -9.9345e-01, -9.4134e-01,  9.7961e-02,  8.1960e-01,\n",
      "         -8.4474e-01,  4.3597e-01, -3.0890e-01, -6.8634e-01,  5.5087e-01,\n",
      "         -9.2137e-01, -3.1040e-01,  9.2397e-01,  8.8099e-01,  6.0763e-01,\n",
      "          2.4072e-01, -9.9232e-01,  5.0048e-01, -5.4418e-02,  9.2349e-01,\n",
      "         -4.1498e-01, -9.9950e-01,  9.1134e-01, -9.4620e-01,  1.7432e-01,\n",
      "          6.0468e-01, -9.4286e-02, -6.1888e-01, -9.5385e-01,  2.2230e-02,\n",
      "          5.9552e-01,  9.7375e-01,  1.0949e-01,  1.1430e-01],\n",
      "        [ 3.7872e-01, -6.9243e-01, -1.1634e-01,  1.9709e-01, -1.8760e-02,\n",
      "         -6.4017e-01,  9.9993e-01,  5.1604e-01,  3.7699e-01,  2.4638e-01,\n",
      "          8.1232e-01,  7.8663e-01, -4.4447e-01, -5.9055e-01, -9.3479e-01,\n",
      "         -3.2294e-01,  1.6747e-01, -9.8759e-01,  7.0258e-01, -7.0359e-01,\n",
      "         -1.9027e-01, -4.9305e-01,  3.5646e-01, -3.9801e-01, -3.6722e-01,\n",
      "         -8.8629e-01,  8.6743e-01, -3.4166e-01,  9.8965e-01, -4.3315e-01,\n",
      "         -7.2398e-01,  9.9835e-01, -9.2551e-01,  7.2149e-01,  9.9321e-01,\n",
      "         -9.8039e-01, -9.9982e-01,  7.6824e-01, -1.2237e-02,  8.5657e-01,\n",
      "          9.2622e-01,  9.6917e-01, -5.8321e-01, -6.1743e-01,  8.9579e-01,\n",
      "          8.0700e-01,  3.5521e-01, -9.4642e-01, -9.8588e-01, -1.5708e-01,\n",
      "          7.1160e-01,  7.1060e-01, -9.8173e-01,  8.7000e-01, -9.3431e-01,\n",
      "          9.1738e-01, -9.3014e-01,  4.6314e-01, -4.9757e-01, -9.3982e-01,\n",
      "          1.4351e-01,  9.0132e-01, -6.8982e-01,  5.7366e-02]])\n"
     ]
    }
   ],
   "execution_count": 7
  },
  {
   "metadata": {},
   "cell_type": "markdown",
   "source": "## PositionalEmbedding",
   "id": "d6eaba8f91bcfcf"
  },
  {
   "metadata": {},
   "cell_type": "markdown",
   "source": "### mapping more than 1",
   "id": "ab76cf72df5413ae"
  },
  {
   "metadata": {
    "ExecuteTime": {
     "end_time": "2025-08-18T01:01:29.385618Z",
     "start_time": "2025-08-18T01:01:29.381805Z"
    }
   },
   "cell_type": "code",
   "source": "print(embeddings.PositionalEmbedding.__init__.__doc__)",
   "id": "56cdde597bede47f",
   "outputs": [
    {
     "name": "stdout",
     "output_type": "stream",
     "text": [
      "\n",
      "        Initializes the Positional Embedding module.\n",
      "\n",
      "        Args:\n",
      "            input_dim (int): The input dimension.\n",
      "            mapping_dim (int): The mapping dimension.\n",
      "            scale (float): The scale parameter.\n",
      "\n",
      "        Following the paper https://arxiv.org/abs/2006.10739\n",
      "        \n"
     ]
    }
   ],
   "execution_count": 8
  },
  {
   "metadata": {
    "ExecuteTime": {
     "end_time": "2025-08-18T01:01:29.429558Z",
     "start_time": "2025-08-18T01:01:29.422725Z"
    }
   },
   "cell_type": "code",
   "source": [
    "embedding = embeddings.PositionalEmbedding(2, 64, 6)\n",
    "\n",
    "# Apply the embedding to the coordinates\n",
    "embedded_coords = embedding(coords_rad)\n",
    "print(f\"input shape: {coords_rad.shape}\")\n",
    "print(f\"output shape: {embedded_coords.shape}\")\n",
    "\n",
    "# Print the embedded coordinates\n",
    "print(\"Embedded coordinates:\")\n",
    "print(embedded_coords)"
   ],
   "id": "58b99d084b42ff16",
   "outputs": [
    {
     "name": "stdout",
     "output_type": "stream",
     "text": [
      "input shape: torch.Size([3, 2])\n",
      "output shape: torch.Size([3, 128])\n",
      "Embedded coordinates:\n",
      "tensor([[-7.1327e-01, -6.3105e-01, -5.3837e-01, -4.3573e-01, -3.2391e-01,\n",
      "         -2.0399e-01, -7.7394e-02,  5.4097e-02,  1.8832e-01,  3.2274e-01,\n",
      "          4.5444e-01,  5.8017e-01,  6.9635e-01,  7.9920e-01,  8.8479e-01,\n",
      "          9.4920e-01,  9.8865e-01,  9.9973e-01,  9.7960e-01,  9.2624e-01,\n",
      "          8.3873e-01,  7.1750e-01,  5.6460e-01,  3.8387e-01,  1.8118e-01,\n",
      "         -3.5624e-02, -2.5672e-01, -4.7062e-01, -6.6455e-01, -8.2518e-01,\n",
      "         -9.3946e-01, -9.9576e-01, -9.8509e-01, -9.0244e-01, -7.4809e-01,\n",
      "         -5.2863e-01, -2.5767e-01,  4.4156e-02,  3.5004e-01,  6.2875e-01,\n",
      "          8.4759e-01,  9.7623e-01,  9.9128e-01,  8.8108e-01,  6.4984e-01,\n",
      "          3.2033e-01, -6.5998e-02, -4.5226e-01, -7.7328e-01, -9.6631e-01,\n",
      "         -9.8415e-01, -8.0843e-01, -4.5969e-01, -6.2811e-04,  4.7057e-01,\n",
      "          8.3844e-01,  9.9834e-01,  8.8885e-01,  5.1939e-01, -1.8125e-02,\n",
      "         -5.6333e-01, -9.3028e-01, -9.7179e-01, -6.4543e-01,  7.0089e-01,\n",
      "          7.7574e-01,  8.4271e-01,  9.0008e-01,  9.4609e-01,  9.7897e-01,\n",
      "          9.9700e-01,  9.9854e-01,  9.8211e-01,  9.4649e-01,  8.9078e-01,\n",
      "          8.1450e-01,  7.1770e-01,  6.0106e-01,  4.6599e-01,  3.1468e-01,\n",
      "          1.5025e-01, -2.3289e-02, -2.0097e-01, -3.7693e-01, -5.4454e-01,\n",
      "         -6.9655e-01, -8.2537e-01, -9.2339e-01, -9.8345e-01, -9.9937e-01,\n",
      "         -9.6648e-01, -8.8234e-01, -7.4724e-01, -5.6487e-01, -3.4265e-01,\n",
      "         -9.1947e-02,  1.7204e-01,  4.3081e-01,  6.6360e-01,  8.4885e-01,\n",
      "          9.6623e-01,  9.9902e-01,  9.3674e-01,  7.7761e-01,  5.3065e-01,\n",
      "          2.1673e-01, -1.3174e-01, -4.7296e-01, -7.6007e-01, -9.4731e-01,\n",
      "         -9.9782e-01, -8.9188e-01, -6.3406e-01, -2.5739e-01,  1.7733e-01,\n",
      "          5.8859e-01,  8.8808e-01,  1.0000e+00,  8.8236e-01,  5.4499e-01,\n",
      "          5.7538e-02, -4.5820e-01, -8.5454e-01, -9.9984e-01, -8.2623e-01,\n",
      "         -3.6686e-01,  2.3584e-01,  7.6382e-01],\n",
      "        [-8.5032e-01, -5.2684e-01, -7.9970e-02,  3.9700e-01,  7.8976e-01,\n",
      "          9.8966e-01,  9.2600e-01,  5.9519e-01,  7.5761e-02, -4.8099e-01,\n",
      "         -8.8929e-01, -9.9078e-01, -7.2200e-01, -1.5993e-01,  4.8274e-01,\n",
      "          9.2727e-01,  9.4957e-01,  5.0488e-01, -2.1226e-01, -8.2945e-01,\n",
      "         -9.8138e-01, -5.3904e-01,  2.5892e-01,  8.9866e-01,  9.1105e-01,\n",
      "          2.3947e-01, -6.3490e-01, -9.9732e-01, -4.9202e-01,  4.7656e-01,\n",
      "          9.9942e-01,  5.1038e-01, -5.3466e-01, -9.9229e-01, -2.7968e-01,\n",
      "          7.9112e-01,  8.4088e-01, -2.6294e-01, -9.9999e-01, -2.3460e-01,\n",
      "          9.0822e-01,  5.5447e-01, -7.6260e-01, -7.0181e-01,  6.8958e-01,\n",
      "          7.1607e-01, -7.3746e-01, -5.9610e-01,  8.8316e-01,  2.8499e-01,\n",
      "         -9.9922e-01,  2.5873e-01,  8.1617e-01, -8.5473e-01, -8.0468e-02,\n",
      "          9.0370e-01, -8.5467e-01,  9.7553e-02,  6.9371e-01, -9.9999e-01,\n",
      "          7.4605e-01, -1.7637e-01, -4.0519e-01,  8.0718e-01, -5.2627e-01,\n",
      "         -8.4996e-01, -9.9680e-01, -9.1782e-01, -6.1342e-01, -1.4346e-01,\n",
      "          3.7753e-01,  8.0358e-01,  9.9713e-01,  8.7673e-01,  4.5733e-01,\n",
      "         -1.3547e-01, -6.9190e-01, -9.8713e-01, -8.7576e-01, -3.7439e-01,\n",
      "          3.1355e-01,  8.6319e-01,  9.7721e-01,  5.5858e-01, -1.9206e-01,\n",
      "         -8.4228e-01, -9.6590e-01, -4.3865e-01,  4.1229e-01,  9.7090e-01,\n",
      "          7.7260e-01, -7.3096e-02, -8.7059e-01, -8.7914e-01, -3.4200e-02,\n",
      "          8.5995e-01,  8.4506e-01, -1.2395e-01, -9.6009e-01, -6.1166e-01,\n",
      "          5.4123e-01,  9.6481e-01,  3.8336e-03, -9.7209e-01, -4.1850e-01,\n",
      "          8.3220e-01,  6.4687e-01, -7.1237e-01, -7.2421e-01,  6.9803e-01,\n",
      "          6.7539e-01, -8.0291e-01, -4.6908e-01,  9.5853e-01,  3.9476e-02,\n",
      "         -9.6595e-01,  5.7781e-01,  5.1907e-01, -9.9676e-01,  4.2816e-01,\n",
      "          5.1918e-01, -9.9523e-01,  7.2026e-01, -4.4977e-03, -6.6589e-01,\n",
      "          9.8432e-01, -9.1423e-01,  5.9031e-01],\n",
      "        [ 7.9682e-01,  8.8289e-01,  9.4787e-01,  9.8799e-01,  9.9982e-01,\n",
      "          9.8050e-01,  9.2799e-01,  8.4134e-01,  7.2094e-01,  5.6878e-01,\n",
      "          3.8869e-01,  1.8646e-01, -3.0099e-02, -2.5123e-01, -4.6545e-01,\n",
      "         -6.6005e-01, -8.2167e-01, -9.3727e-01, -9.9514e-01, -9.8623e-01,\n",
      "         -9.0540e-01, -7.5279e-01, -5.3482e-01, -2.6493e-01,  3.6429e-02,\n",
      "          3.4257e-01,  6.2237e-01,  8.4310e-01,  9.7432e-01,  9.9242e-01,\n",
      "          8.8537e-01,  6.5696e-01,  3.2948e-01, -5.6065e-02, -4.4311e-01,\n",
      "         -7.6657e-01, -9.6347e-01, -9.8606e-01, -8.1512e-01, -4.7010e-01,\n",
      "         -1.2730e-02,  4.5955e-01,  8.3140e-01,  9.9750e-01,  8.9497e-01,\n",
      "          5.3124e-01, -3.8058e-03, -5.5110e-01, -9.2462e-01, -9.7535e-01,\n",
      "         -6.5758e-01, -6.8957e-02,  5.6299e-01,  9.5914e-01,  9.1367e-01,\n",
      "          4.1395e-01, -3.1386e-01, -8.8500e-01, -9.5394e-01, -4.3918e-01,\n",
      "          3.7070e-01,  9.4510e-01,  8.5273e-01,  1.1339e-01, -6.0422e-01,\n",
      "         -4.6958e-01, -3.1864e-01, -1.5449e-01,  1.8872e-02,  1.9651e-01,\n",
      "          3.7260e-01,  5.4051e-01,  6.9300e-01,  8.2249e-01,  9.2137e-01,\n",
      "          9.8246e-01,  9.9955e-01,  9.6793e-01,  8.8507e-01,  7.5122e-01,\n",
      "          5.6996e-01,  3.4861e-01,  9.8455e-02, -1.6541e-01, -4.2456e-01,\n",
      "         -6.5827e-01, -8.4496e-01, -9.6427e-01, -9.9934e-01, -9.3949e-01,\n",
      "         -7.8272e-01, -5.3776e-01, -2.2516e-01,  1.2291e-01,  4.6489e-01,\n",
      "          7.5392e-01,  9.4416e-01,  9.9843e-01,  8.9647e-01,  6.4216e-01,\n",
      "          2.6783e-01, -1.6637e-01, -5.7930e-01, -8.8261e-01, -9.9992e-01,\n",
      "         -8.8815e-01, -5.5568e-01, -7.0675e-02,  4.4612e-01,  8.4722e-01,\n",
      "          9.9999e-01,  8.3444e-01,  3.8090e-01, -2.2067e-01, -7.5338e-01,\n",
      "         -9.9762e-01, -8.2647e-01, -2.8294e-01,  4.0645e-01,  9.1030e-01,\n",
      "          9.4947e-01,  4.6560e-01, -3.0001e-01, -8.9840e-01, -9.2875e-01,\n",
      "         -3.2678e-01,  5.2235e-01,  9.9355e-01]])\n"
     ]
    }
   ],
   "execution_count": 9
  },
  {
   "metadata": {},
   "cell_type": "markdown",
   "source": "### mapping equal to 1",
   "id": "afb378a109ba1a90"
  },
  {
   "metadata": {
    "ExecuteTime": {
     "end_time": "2025-08-18T01:01:29.466590Z",
     "start_time": "2025-08-18T01:01:29.462079Z"
    }
   },
   "cell_type": "code",
   "source": [
    "embedding = embeddings.PositionalEmbedding(2, 1, 6)\n",
    "\n",
    "# Apply the embedding to the coordinates\n",
    "embedded_coords = embedding(coords_rad)\n",
    "print(f\"input shape: {coords_rad.shape}\")\n",
    "print(f\"output shape: {embedded_coords.shape}\")\n",
    "\n",
    "# Print the embedded coordinates\n",
    "print(\"Embedded coordinates:\")\n",
    "print(embedded_coords)"
   ],
   "id": "a17e309147152e94",
   "outputs": [
    {
     "name": "stdout",
     "output_type": "stream",
     "text": [
      "input shape: torch.Size([3, 2])\n",
      "output shape: torch.Size([3, 2])\n",
      "Embedded coordinates:\n",
      "tensor([[-0.7133,  0.7009],\n",
      "        [-0.8503, -0.5263],\n",
      "        [ 0.7968, -0.6042]])\n"
     ]
    }
   ],
   "execution_count": 10
  },
  {
   "metadata": {},
   "cell_type": "markdown",
   "source": "## SphericalCartesianEmbedding",
   "id": "f9f76255f6732103"
  },
  {
   "metadata": {
    "ExecuteTime": {
     "end_time": "2025-08-18T01:01:29.497718Z",
     "start_time": "2025-08-18T01:01:29.494706Z"
    }
   },
   "cell_type": "code",
   "source": "print(embeddings.SphericalCartesianEmbedding.__init__.__doc__)",
   "id": "896f5244a015e637",
   "outputs": [
    {
     "name": "stdout",
     "output_type": "stream",
     "text": [
      "\n",
      "        Initialize the SphericalCatesianEmbedding module.\n",
      "        Following the paper https://arxiv.org/pdf/2306.17624\n",
      "\n",
      "        Args:\n",
      "            scale (int): The number of dimensions in the embeddings.\n",
      "            r_min (float): The minimum radius of the sphere.\n",
      "            r_max (float, optional): The maximum radius of the sphere. Defaults to 1.0.\n",
      "        \n"
     ]
    }
   ],
   "execution_count": 11
  },
  {
   "metadata": {
    "ExecuteTime": {
     "end_time": "2025-08-18T01:01:29.530527Z",
     "start_time": "2025-08-18T01:01:29.524523Z"
    }
   },
   "cell_type": "code",
   "source": [
    "embedding = embeddings.SphericalCartesianEmbedding(2, 0.1)\n",
    "\n",
    "# Apply the embedding to the coordinates\n",
    "embedded_coords = embedding(coords_rad)\n",
    "print(f\"input shape: {coords_rad.shape}\")\n",
    "print(f\"output shape: {embedded_coords.shape}\")\n",
    "\n",
    "# Print the embedded coordinates\n",
    "print(\"Embedded coordinates:\")\n",
    "print(embedded_coords)"
   ],
   "id": "48aadd5cddbbcd95",
   "outputs": [
    {
     "name": "stdout",
     "output_type": "stream",
     "text": [
      "input shape: torch.Size([3, 2])\n",
      "output shape: torch.Size([3, 6])\n",
      "Embedded coordinates:\n",
      "tensor([[ 0.0761,  0.6903,  0.0759,  0.4994,  0.9875,  0.1333],\n",
      "        [-0.0449, -0.4339, -0.0448, -0.3909,  0.9533, -0.8961],\n",
      "        [ 0.0898,  0.7827,  0.0894,  0.4872,  0.9960,  0.6224]])\n"
     ]
    }
   ],
   "execution_count": 12
  },
  {
   "metadata": {},
   "cell_type": "markdown",
   "source": "## SpericalGridEmbedding",
   "id": "aece0010107479a2"
  },
  {
   "metadata": {
    "ExecuteTime": {
     "end_time": "2025-08-18T01:01:29.565871Z",
     "start_time": "2025-08-18T01:01:29.561359Z"
    }
   },
   "cell_type": "code",
   "source": "print(embeddings.SphericalGridEmbedding.__init__.__doc__)",
   "id": "fef1ffdbad65207",
   "outputs": [
    {
     "name": "stdout",
     "output_type": "stream",
     "text": [
      "\n",
      "        Initializes the SphericalGridEmbedding module.\n",
      "\n",
      "        Args:\n",
      "            scale (int): The scale parameter.\n",
      "            r_min (float): The minimum radius.\n",
      "            r_max (float, optional): The maximum radius. Defaults to 1.0.\n",
      "\n",
      "        Following the paper https://arxiv.org/pdf/2306.17624\n",
      "        \n"
     ]
    }
   ],
   "execution_count": 13
  },
  {
   "metadata": {
    "ExecuteTime": {
     "end_time": "2025-08-18T01:01:29.600490Z",
     "start_time": "2025-08-18T01:01:29.594455Z"
    }
   },
   "cell_type": "code",
   "source": [
    "embedding = embeddings.SphericalGridEmbedding(5, 0.1)\n",
    "\n",
    "# Apply the embedding to the coordinates\n",
    "embedded_coords = embedding(coords_rad)\n",
    "print(f\"input shape: {coords_rad.shape}\")\n",
    "print(f\"output shape: {embedded_coords.shape}\")\n",
    "\n",
    "# Print the embedded coordinates\n",
    "print(\"Embedded coordinates:\")\n",
    "print(embedded_coords)"
   ],
   "id": "52e690a9a39ef6b7",
   "outputs": [
    {
     "name": "stdout",
     "output_type": "stream",
     "text": [
      "input shape: torch.Size([3, 2])\n",
      "output shape: torch.Size([3, 20])\n",
      "Embedded coordinates:\n",
      "tensor([[ 7.6116e-02,  1.3507e-01,  2.3861e-01,  4.1546e-01,  6.9029e-01,\n",
      "          9.9710e-01,  9.9084e-01,  9.7112e-01,  9.0961e-01,  7.2353e-01,\n",
      "         -1.3811e-01, -2.4390e-01, -4.2425e-01, -7.0266e-01, -9.8288e-01,\n",
      "          9.9042e-01,  9.6980e-01,  9.0555e-01,  7.1153e-01,  1.8424e-01],\n",
      "        [-4.4862e-02, -7.9720e-02, -1.4144e-01, -2.4969e-01, -4.3386e-01,\n",
      "          9.9899e-01,  9.9682e-01,  9.8995e-01,  9.6832e-01,  9.0098e-01,\n",
      "          2.9905e-01,  5.1419e-01,  8.1941e-01,  9.9063e-01,  1.0442e-01,\n",
      "          9.5424e-01,  8.5768e-01,  5.7321e-01, -1.3659e-01, -9.9453e-01],\n",
      "        [ 8.9776e-02,  1.5918e-01,  2.8047e-01,  4.8427e-01,  7.8269e-01,\n",
      "          9.9596e-01,  9.8725e-01,  9.5986e-01,  8.7492e-01,  6.2241e-01,\n",
      "         -2.2305e-04, -3.9665e-04, -7.0536e-04, -1.2543e-03, -2.2305e-03,\n",
      "          1.0000e+00,  1.0000e+00,  1.0000e+00,  1.0000e+00,  1.0000e+00]])\n"
     ]
    }
   ],
   "execution_count": 14
  },
  {
   "metadata": {},
   "cell_type": "markdown",
   "source": "## SphericalMultiScaleEmbedding",
   "id": "376b5d40496decb8"
  },
  {
   "metadata": {
    "ExecuteTime": {
     "end_time": "2025-08-18T01:01:29.637733Z",
     "start_time": "2025-08-18T01:01:29.633926Z"
    }
   },
   "cell_type": "code",
   "source": "print(embeddings.SphericalMultiScaleEmbedding.__init__.__doc__)",
   "id": "e39eb06cd5392b06",
   "outputs": [
    {
     "name": "stdout",
     "output_type": "stream",
     "text": [
      "\n",
      "        Initialize the SphericalMultiScaleEmbedding module.\n",
      "        following the paper https://arxiv.org/pdf/2306.17624\n",
      "\n",
      "        Args:\n",
      "            scale (int): The number of dimensions in the embeddings.\n",
      "            r_min (float): The minimum radius of the sphere.\n",
      "            r_max (float, optional): The maximum radius of the sphere. Defaults to 1.0.\n",
      "        \n"
     ]
    }
   ],
   "execution_count": 15
  },
  {
   "metadata": {
    "ExecuteTime": {
     "end_time": "2025-08-18T01:02:18.810923Z",
     "start_time": "2025-08-18T01:02:18.805405Z"
    }
   },
   "cell_type": "code",
   "source": [
    "embedding = embeddings.SphericalMultiScaleEmbedding(2, 0.1)\n",
    "\n",
    "# Apply the embedding to the coordinates\n",
    "embedded_coords = embedding(coords_rad)\n",
    "print(f\"input shape: {coords_rad.shape}\")\n",
    "print(f\"output shape: {embedded_coords.shape}\")\n",
    "\n",
    "# Print the embedded coordinates\n",
    "print(\"Embedded coordinates:\")\n",
    "print(embedded_coords)"
   ],
   "id": "3818f9c09d956012",
   "outputs": [
    {
     "name": "stdout",
     "output_type": "stream",
     "text": [
      "input shape: torch.Size([3, 2])\n",
      "output shape: torch.Size([3, 10])\n",
      "Embedded coordinates:\n",
      "tensor([[ 0.0761,  0.6903,  0.1837,  0.1333,  0.7166,  0.1333, -0.9800, -0.7111,\n",
      "          0.6837,  0.1272],\n",
      "        [-0.0449, -0.4339, -0.9935, -0.8961,  0.8597, -0.8961,  0.1043,  0.0941,\n",
      "         -0.4140,  0.4315],\n",
      "        [ 0.0898,  0.7827,  0.9960,  0.6224,  0.6224,  0.6224, -0.0022, -0.0014,\n",
      "          0.7827,  0.7827]])\n"
     ]
    }
   ],
   "execution_count": 19
  }
 ],
 "metadata": {
  "kernelspec": {
   "display_name": "Python 3",
   "language": "python",
   "name": "python3"
  },
  "language_info": {
   "codemirror_mode": {
    "name": "ipython",
    "version": 2
   },
   "file_extension": ".py",
   "mimetype": "text/x-python",
   "name": "python",
   "nbconvert_exporter": "python",
   "pygments_lexer": "ipython2",
   "version": "2.7.6"
  }
 },
 "nbformat": 4,
 "nbformat_minor": 5
}
