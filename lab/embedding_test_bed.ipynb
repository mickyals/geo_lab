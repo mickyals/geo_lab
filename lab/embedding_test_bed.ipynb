{
 "cells": [
  {
   "cell_type": "code",
   "id": "initial_id",
   "metadata": {
    "collapsed": true,
    "ExecuteTime": {
     "end_time": "2025-08-18T19:50:43.261154Z",
     "start_time": "2025-08-18T19:50:41.567191Z"
    }
   },
   "source": [
    "import torch\n",
    "import inspect\n",
    "from models.coordinate_models.core import embeddings\n"
   ],
   "outputs": [],
   "execution_count": 1
  },
  {
   "metadata": {
    "ExecuteTime": {
     "end_time": "2025-08-18T19:50:43.276241Z",
     "start_time": "2025-08-18T19:50:43.271898Z"
    }
   },
   "cell_type": "code",
   "source": [
    "\n",
    "functions = [name for name, obj in inspect.getmembers(embeddings, inspect.isfunction)]\n",
    "classes = [name for name, obj in inspect.getmembers(embeddings, inspect.isclass)]\n",
    "\n",
    "print(\"Functions:\", functions)\n",
    "print(\"Classes:\", classes)"
   ],
   "id": "a0103b3f8b964ba",
   "outputs": [
    {
     "name": "stdout",
     "output_type": "stream",
     "text": [
      "Functions: ['get_embedding', 'register_embedding']\n",
      "Classes: ['DoubleFourierSphericalEmbedding', 'GaussianFourierEmbedding', 'PositionalEmbedding', 'SphericalCartesianEmbedding', 'SphericalCartesianPlusEmbedding', 'SphericalGridEmbedding', 'SphericalMultiScaleEmbedding', 'SphericalMultiScalePlusEmbedding']\n"
     ]
    }
   ],
   "execution_count": 2
  },
  {
   "metadata": {
    "ExecuteTime": {
     "end_time": "2025-08-18T19:50:43.353748Z",
     "start_time": "2025-08-18T19:50:43.347133Z"
    }
   },
   "cell_type": "code",
   "source": [
    "# Example coordinates (latitude, longitude)\n",
    "coords = torch.tensor([\n",
    "    [43.6532, -79.3832],  # Toronto\n",
    "    [-25.7128, 174.0060],  # NYC\n",
    "    [51.5074, -0.1278]    # London\n",
    "], dtype=torch.float32)\n",
    "\n",
    "# Convert degrees to radians\n",
    "coords_rad = coords * (torch.pi / 180)\n",
    "\n",
    "print(\"Coordinates in radians:\")\n",
    "print(coords_rad)"
   ],
   "id": "a20a16bb54d008fa",
   "outputs": [
    {
     "name": "stdout",
     "output_type": "stream",
     "text": [
      "Coordinates in radians:\n",
      "tensor([[ 7.6189e-01, -1.3855e+00],\n",
      "        [-4.4877e-01,  3.0370e+00],\n",
      "        [ 8.9897e-01, -2.2305e-03]])\n"
     ]
    }
   ],
   "execution_count": 3
  },
  {
   "metadata": {},
   "cell_type": "markdown",
   "source": "## DoubleFourierSphericalEmbedding",
   "id": "fd91e9599f72fc06"
  },
  {
   "metadata": {
    "ExecuteTime": {
     "end_time": "2025-08-18T19:50:43.368863Z",
     "start_time": "2025-08-18T19:50:43.365379Z"
    }
   },
   "cell_type": "code",
   "source": "print(embeddings.DoubleFourierSphericalEmbedding.__init__.__doc__)",
   "id": "aaaa32c699dcb217",
   "outputs": [
    {
     "name": "stdout",
     "output_type": "stream",
     "text": [
      "\n",
      "        Initialize the DoubleFourierSphericalEmbedding module.\n",
      "\n",
      "        This module calculates embeddings for spherical coordinates following the paper\n",
      "        https://arxiv.org/pdf/2306.17624\n",
      "\n",
      "        Args:\n",
      "            scale (int): The number of dimensions in the embeddings.\n",
      "            r_lat_min (float): The minimum radius of the latitude sphere.\n",
      "            r_lon_min (float): The minimum radius of the longitude sphere.\n",
      "            r_max (float, optional): The maximum radius of the spheres. Defaults to 1.0.\n",
      "        \n"
     ]
    }
   ],
   "execution_count": 4
  },
  {
   "metadata": {
    "ExecuteTime": {
     "end_time": "2025-08-18T19:50:43.408942Z",
     "start_time": "2025-08-18T19:50:43.401367Z"
    }
   },
   "cell_type": "code",
   "source": [
    "embedding = embeddings.DoubleFourierSphericalEmbedding(5, 0.01,0.01, 1.0)\n",
    "\n",
    "# Apply the embedding to the coordinates\n",
    "embedded_coords = embedding(coords_rad)\n",
    "print(f\"input shape: {coords_rad.shape}\")\n",
    "print(f\"output shape: {embedded_coords.shape}\")\n",
    "\n",
    "# Print the embedded coordinates\n",
    "print(\"Embedded coordinates:\")\n",
    "print(embedded_coords)"
   ],
   "id": "52e14d25110da99a",
   "outputs": [
    {
     "name": "stdout",
     "output_type": "stream",
     "text": [
      "input shape: torch.Size([3, 2])\n",
      "output shape: torch.Size([3, 120])\n",
      "Embedded coordinates:\n",
      "tensor([[ 7.6188e-03,  2.4091e-02,  7.6116e-02,  2.3861e-01,  6.9029e-01,\n",
      "          9.9997e-01,  9.9971e-01,  9.9710e-01,  9.7112e-01,  7.2353e-01,\n",
      "         -1.3855e-02, -4.3799e-02, -1.3811e-01, -4.2425e-01, -9.8288e-01,\n",
      "          9.9990e-01,  9.9904e-01,  9.9042e-01,  9.0555e-01,  1.8424e-01,\n",
      "          9.9988e-01,  9.9901e-01,  9.9039e-01,  9.0552e-01,  1.8423e-01,\n",
      "         -1.3854e-02, -4.3798e-02, -1.3810e-01, -4.2424e-01, -9.8285e-01,\n",
      "          7.6181e-03,  7.6115e-03,  7.5458e-03,  6.8992e-03,  1.4037e-03,\n",
      "         -1.0556e-04, -3.3370e-04, -1.0522e-03, -3.2323e-03, -7.4884e-03,\n",
      "          9.9961e-01,  9.9875e-01,  9.9013e-01,  9.0528e-01,  1.8419e-01,\n",
      "         -1.3851e-02, -4.3787e-02, -1.3807e-01, -4.2413e-01, -9.8260e-01,\n",
      "          2.4088e-02,  2.4068e-02,  2.3860e-02,  2.1815e-02,  4.4385e-03,\n",
      "         -3.3377e-04, -1.0552e-03, -3.3271e-03, -1.0221e-02, -2.3678e-02,\n",
      "          9.9700e-01,  9.9614e-01,  9.8754e-01,  9.0292e-01,  1.8371e-01,\n",
      "         -1.3814e-02, -4.3672e-02, -1.3771e-01, -4.2302e-01, -9.8003e-01,\n",
      "          7.6108e-02,  7.6042e-02,  7.5386e-02,  6.8926e-02,  1.4023e-02,\n",
      "         -1.0545e-03, -3.3338e-03, -1.0512e-02, -3.2292e-02, -7.4813e-02,\n",
      "          9.7102e-01,  9.7018e-01,  9.6181e-01,  8.7939e-01,  1.7892e-01,\n",
      "         -1.3454e-02, -4.2534e-02, -1.3412e-01, -4.1200e-01, -9.5449e-01,\n",
      "          2.3858e-01,  2.3838e-01,  2.3632e-01,  2.1607e-01,  4.3961e-02,\n",
      "         -3.3058e-03, -1.0451e-02, -3.2953e-02, -1.0123e-01, -2.3452e-01,\n",
      "          7.2346e-01,  7.2284e-01,  7.1660e-01,  6.5519e-01,  1.3330e-01,\n",
      "         -1.0024e-02, -3.1690e-02, -9.9925e-02, -3.0696e-01, -7.1115e-01,\n",
      "          6.9023e-01,  6.8963e-01,  6.8368e-01,  6.2509e-01,  1.2718e-01,\n",
      "         -9.5637e-03, -3.0234e-02, -9.5334e-02, -2.9286e-01, -6.7847e-01],\n",
      "        [-4.4877e-03, -1.4191e-02, -4.4862e-02, -1.4144e-01, -4.3386e-01,\n",
      "          9.9999e-01,  9.9990e-01,  9.9899e-01,  9.8995e-01,  9.0098e-01,\n",
      "          3.0365e-02,  9.5890e-02,  2.9905e-01,  8.1941e-01,  1.0442e-01,\n",
      "          9.9954e-01,  9.9539e-01,  9.5424e-01,  5.7321e-01, -9.9453e-01,\n",
      "          9.9953e-01,  9.9538e-01,  9.5423e-01,  5.7321e-01, -9.9452e-01,\n",
      "          3.0365e-02,  9.5889e-02,  2.9905e-01,  8.1940e-01,  1.0442e-01,\n",
      "         -4.4856e-03, -4.4670e-03, -4.2823e-03, -2.5724e-03,  4.4632e-03,\n",
      "         -1.3627e-04, -4.3033e-04, -1.3421e-03, -3.6773e-03, -4.6863e-04,\n",
      "          9.9944e-01,  9.9529e-01,  9.5414e-01,  5.7315e-01, -9.9443e-01,\n",
      "          3.0362e-02,  9.5880e-02,  2.9902e-01,  8.1933e-01,  1.0441e-01,\n",
      "         -1.4184e-02, -1.4126e-02, -1.3542e-02, -8.1344e-03,  1.4113e-02,\n",
      "         -4.3091e-04, -1.3608e-03, -4.2438e-03, -1.1628e-02, -1.4819e-03,\n",
      "          9.9853e-01,  9.9439e-01,  9.5328e-01,  5.7263e-01, -9.9353e-01,\n",
      "          3.0335e-02,  9.5794e-02,  2.9875e-01,  8.1858e-01,  1.0432e-01,\n",
      "         -4.4842e-02, -4.4656e-02, -4.2809e-02, -2.5716e-02,  4.4617e-02,\n",
      "         -1.3622e-03, -4.3018e-03, -1.3416e-02, -3.6760e-02, -4.6847e-03,\n",
      "          9.8949e-01,  9.8539e-01,  9.4464e-01,  5.6745e-01, -9.8453e-01,\n",
      "          3.0060e-02,  9.4926e-02,  2.9604e-01,  8.1117e-01,  1.0337e-01,\n",
      "         -1.4137e-01, -1.4079e-01, -1.3497e-01, -8.1074e-02,  1.4067e-01,\n",
      "         -4.2948e-03, -1.3563e-02, -4.2297e-02, -1.1590e-01, -1.4770e-02,\n",
      "          9.0056e-01,  8.9683e-01,  8.5975e-01,  5.1645e-01, -8.9605e-01,\n",
      "          2.7358e-02,  8.6395e-02,  2.6944e-01,  7.3827e-01,  9.4084e-02,\n",
      "         -4.3366e-01, -4.3186e-01, -4.1401e-01, -2.4869e-01,  4.3149e-01,\n",
      "         -1.3174e-02, -4.1603e-02, -1.2975e-01, -3.5551e-01, -4.5306e-02],\n",
      "        [ 8.9896e-03,  2.8424e-02,  8.9776e-02,  2.8047e-01,  7.8269e-01,\n",
      "          9.9996e-01,  9.9960e-01,  9.9596e-01,  9.5986e-01,  6.2241e-01,\n",
      "         -2.2305e-05, -7.0536e-05, -2.2305e-04, -7.0536e-04, -2.2305e-03,\n",
      "          1.0000e+00,  1.0000e+00,  1.0000e+00,  1.0000e+00,  1.0000e+00,\n",
      "          9.9996e-01,  9.9996e-01,  9.9996e-01,  9.9996e-01,  9.9996e-01,\n",
      "         -2.2304e-05, -7.0533e-05, -2.2304e-04, -7.0533e-04, -2.2304e-03,\n",
      "          8.9896e-03,  8.9896e-03,  8.9896e-03,  8.9896e-03,  8.9896e-03,\n",
      "         -2.0052e-07, -6.3409e-07, -2.0052e-06, -6.3409e-06, -2.0052e-05,\n",
      "          9.9960e-01,  9.9960e-01,  9.9960e-01,  9.9960e-01,  9.9959e-01,\n",
      "         -2.2296e-05, -7.0507e-05, -2.2296e-04, -7.0507e-04, -2.2296e-03,\n",
      "          2.8424e-02,  2.8424e-02,  2.8424e-02,  2.8424e-02,  2.8424e-02,\n",
      "         -6.3401e-07, -2.0049e-06, -6.3401e-06, -2.0049e-05, -6.3401e-05,\n",
      "          9.9596e-01,  9.9596e-01,  9.9596e-01,  9.9596e-01,  9.9596e-01,\n",
      "         -2.2215e-05, -7.0251e-05, -2.2215e-04, -7.0251e-04, -2.2215e-03,\n",
      "          8.9776e-02,  8.9776e-02,  8.9776e-02,  8.9776e-02,  8.9776e-02,\n",
      "         -2.0025e-06, -6.3324e-06, -2.0025e-05, -6.3324e-05, -2.0025e-04,\n",
      "          9.5986e-01,  9.5986e-01,  9.5986e-01,  9.5986e-01,  9.5986e-01,\n",
      "         -2.1410e-05, -6.7705e-05, -2.1410e-04, -6.7705e-04, -2.1410e-03,\n",
      "          2.8047e-01,  2.8047e-01,  2.8047e-01,  2.8047e-01,  2.8047e-01,\n",
      "         -6.2559e-06, -1.9783e-05, -6.2559e-05, -1.9783e-04, -6.2559e-04,\n",
      "          6.2241e-01,  6.2241e-01,  6.2241e-01,  6.2241e-01,  6.2241e-01,\n",
      "         -1.3883e-05, -4.3902e-05, -1.3883e-04, -4.3902e-04, -1.3883e-03,\n",
      "          7.8269e-01,  7.8269e-01,  7.8269e-01,  7.8269e-01,  7.8269e-01,\n",
      "         -1.7458e-05, -5.5207e-05, -1.7458e-04, -5.5207e-04, -1.7458e-03]])\n"
     ]
    }
   ],
   "execution_count": 5
  },
  {
   "metadata": {},
   "cell_type": "markdown",
   "source": "## GaussianFourierEmbedding",
   "id": "eebd7133331ce9af"
  },
  {
   "metadata": {
    "ExecuteTime": {
     "end_time": "2025-08-18T19:50:43.436535Z",
     "start_time": "2025-08-18T19:50:43.432535Z"
    }
   },
   "cell_type": "code",
   "source": "print(embeddings.GaussianFourierEmbedding.__init__.__doc__)",
   "id": "3eca78ddfb5a0392",
   "outputs": [
    {
     "name": "stdout",
     "output_type": "stream",
     "text": [
      "\n",
      "        Initializes the Gaussian Fourier Embedding module. following the paper https://arxiv.org/abs/2006.10739\n",
      "\n",
      "        Args:\n",
      "            input_dim (int): The input dimension.\n",
      "            mapping_dim (int): The mapping dimension.\n",
      "            scale (float): The scale parameter.\n",
      "        \n"
     ]
    }
   ],
   "execution_count": 6
  },
  {
   "metadata": {
    "ExecuteTime": {
     "end_time": "2025-08-18T19:50:43.478753Z",
     "start_time": "2025-08-18T19:50:43.471767Z"
    }
   },
   "cell_type": "code",
   "source": [
    "embedding = embeddings.GaussianFourierEmbedding(2, 64, 6)\n",
    "\n",
    "# Apply the embedding to the coordinates\n",
    "embedded_coords = embedding(coords_rad)\n",
    "print(f\"input shape: {coords_rad.shape}\")\n",
    "print(f\"output shape: {embedded_coords.shape}\")\n",
    "\n",
    "# Print the embedded coordinates\n",
    "print(\"Embedded coordinates:\")\n",
    "print(embedded_coords)"
   ],
   "id": "bca9f97df6ac9f37",
   "outputs": [
    {
     "name": "stdout",
     "output_type": "stream",
     "text": [
      "input shape: torch.Size([3, 2])\n",
      "output shape: torch.Size([3, 64])\n",
      "Embedded coordinates:\n",
      "tensor([[ 0.4914,  0.9723,  0.2648, -0.3277, -0.9231,  0.9848,  0.6912, -0.9812,\n",
      "          0.1030,  0.5375,  0.7421, -0.9631, -0.1577,  0.9413, -0.4537, -0.3934,\n",
      "          0.4061,  0.8589, -0.8666, -0.8890, -0.1806, -0.9497, -0.8621,  0.3376,\n",
      "          0.2624,  0.9953,  0.5642,  0.8161,  0.9495, -0.0553, -0.9996,  0.9352,\n",
      "          0.8709,  0.2336,  0.9643, -0.9448, -0.3845,  0.1740,  0.7226,  0.1929,\n",
      "         -0.9947,  0.8432, -0.6703, -0.2692, -0.9875, -0.3376, -0.8912, -0.9194,\n",
      "          0.9138, -0.5122,  0.4991,  0.4578, -0.9836,  0.3133, -0.5068, -0.9413,\n",
      "         -0.9650,  0.0964, -0.8256, -0.5778, -0.3138, -0.9985, -0.0296, -0.3542],\n",
      "        [ 0.9444, -0.9609, -0.6050,  0.0235, -0.5969, -0.7588, -0.9910, -0.6692,\n",
      "         -0.3336,  0.9955, -0.3444, -0.2140,  0.2975,  0.9253, -0.6140,  0.9740,\n",
      "          0.8861, -0.8307,  0.8781,  0.5555, -0.3185,  0.1353,  0.8549, -0.1121,\n",
      "         -0.8036, -0.3137, -0.9784, -0.9748, -0.9820, -0.8532, -0.6497,  0.9609,\n",
      "          0.3288,  0.2768, -0.7962,  0.9997,  0.8023,  0.6514, -0.1338,  0.7431,\n",
      "          0.9427, -0.0950,  0.9388, -0.9768, -0.9547, -0.3793,  0.7893, -0.2266,\n",
      "         -0.4635,  0.5567,  0.4785, -0.8315, -0.9479, -0.9908,  0.5187,  0.9937,\n",
      "         -0.5951,  0.9495, -0.2066, -0.2232,  0.1887, -0.5217,  0.7602,  0.2767],\n",
      "        [ 0.6821, -0.9636, -0.7031,  0.9728, -0.5262,  0.9281,  0.1928,  0.7556,\n",
      "          0.2193, -0.9848, -0.9668,  0.9841, -0.1063, -0.4077, -0.8296,  0.0346,\n",
      "         -0.6068,  0.3759, -0.6838, -0.8538, -0.7546, -0.6939,  0.4470, -0.9952,\n",
      "         -0.5072,  0.3094,  0.1627, -0.1474,  0.7469, -0.1881,  0.9250, -0.9873,\n",
      "          0.7312,  0.2674, -0.7111, -0.2317, -0.8503,  0.3724,  0.9812, -0.6550,\n",
      "         -0.9757,  0.1736,  0.2554, -0.1774,  0.9943, -0.9131, -0.5584, -0.9994,\n",
      "         -0.7949, -0.9267, -0.7297, -0.5207, -0.6562,  0.7201, -0.8945, -0.0975,\n",
      "          0.8618, -0.9509, -0.9867, -0.9891,  0.6650,  0.9821,  0.3799,  0.1589]])\n"
     ]
    }
   ],
   "execution_count": 7
  },
  {
   "metadata": {},
   "cell_type": "markdown",
   "source": "## PositionalEmbedding",
   "id": "d6eaba8f91bcfcf"
  },
  {
   "metadata": {},
   "cell_type": "markdown",
   "source": "### mapping more than 1",
   "id": "ab76cf72df5413ae"
  },
  {
   "metadata": {
    "ExecuteTime": {
     "end_time": "2025-08-18T19:50:43.533538Z",
     "start_time": "2025-08-18T19:50:43.529384Z"
    }
   },
   "cell_type": "code",
   "source": "print(embeddings.PositionalEmbedding.__init__.__doc__)",
   "id": "56cdde597bede47f",
   "outputs": [
    {
     "name": "stdout",
     "output_type": "stream",
     "text": [
      "\n",
      "        Initializes the Positional Embedding module.\n",
      "\n",
      "        Args:\n",
      "            input_dim (int): The input dimension.\n",
      "            mapping_dim (int): The mapping dimension.\n",
      "            scale (float): The scale parameter.\n",
      "\n",
      "        Following the paper https://arxiv.org/abs/2006.10739\n",
      "        \n"
     ]
    }
   ],
   "execution_count": 8
  },
  {
   "metadata": {
    "ExecuteTime": {
     "end_time": "2025-08-18T19:50:43.571934Z",
     "start_time": "2025-08-18T19:50:43.564650Z"
    }
   },
   "cell_type": "code",
   "source": [
    "embedding = embeddings.PositionalEmbedding(2, 64, 6)\n",
    "\n",
    "# Apply the embedding to the coordinates\n",
    "embedded_coords = embedding(coords_rad)\n",
    "print(f\"input shape: {coords_rad.shape}\")\n",
    "print(f\"output shape: {embedded_coords.shape}\")\n",
    "\n",
    "# Print the embedded coordinates\n",
    "print(\"Embedded coordinates:\")\n",
    "print(embedded_coords)"
   ],
   "id": "58b99d084b42ff16",
   "outputs": [
    {
     "name": "stdout",
     "output_type": "stream",
     "text": [
      "input shape: torch.Size([3, 2])\n",
      "output shape: torch.Size([3, 128])\n",
      "Embedded coordinates:\n",
      "tensor([[-7.1327e-01, -6.3105e-01, -5.3837e-01, -4.3573e-01, -3.2391e-01,\n",
      "         -2.0399e-01, -7.7394e-02,  5.4097e-02,  1.8832e-01,  3.2274e-01,\n",
      "          4.5444e-01,  5.8017e-01,  6.9635e-01,  7.9920e-01,  8.8479e-01,\n",
      "          9.4920e-01,  9.8865e-01,  9.9973e-01,  9.7960e-01,  9.2624e-01,\n",
      "          8.3873e-01,  7.1750e-01,  5.6460e-01,  3.8387e-01,  1.8118e-01,\n",
      "         -3.5624e-02, -2.5672e-01, -4.7062e-01, -6.6455e-01, -8.2518e-01,\n",
      "         -9.3946e-01, -9.9576e-01, -9.8509e-01, -9.0244e-01, -7.4809e-01,\n",
      "         -5.2863e-01, -2.5767e-01,  4.4156e-02,  3.5004e-01,  6.2875e-01,\n",
      "          8.4759e-01,  9.7623e-01,  9.9128e-01,  8.8108e-01,  6.4984e-01,\n",
      "          3.2033e-01, -6.5998e-02, -4.5226e-01, -7.7328e-01, -9.6631e-01,\n",
      "         -9.8415e-01, -8.0843e-01, -4.5969e-01, -6.2811e-04,  4.7057e-01,\n",
      "          8.3844e-01,  9.9834e-01,  8.8885e-01,  5.1939e-01, -1.8125e-02,\n",
      "         -5.6333e-01, -9.3028e-01, -9.7179e-01, -6.4543e-01,  7.0089e-01,\n",
      "          7.7574e-01,  8.4271e-01,  9.0008e-01,  9.4609e-01,  9.7897e-01,\n",
      "          9.9700e-01,  9.9854e-01,  9.8211e-01,  9.4649e-01,  8.9078e-01,\n",
      "          8.1450e-01,  7.1770e-01,  6.0106e-01,  4.6599e-01,  3.1468e-01,\n",
      "          1.5025e-01, -2.3289e-02, -2.0097e-01, -3.7693e-01, -5.4454e-01,\n",
      "         -6.9655e-01, -8.2537e-01, -9.2339e-01, -9.8345e-01, -9.9937e-01,\n",
      "         -9.6648e-01, -8.8234e-01, -7.4724e-01, -5.6487e-01, -3.4265e-01,\n",
      "         -9.1947e-02,  1.7204e-01,  4.3081e-01,  6.6360e-01,  8.4885e-01,\n",
      "          9.6623e-01,  9.9902e-01,  9.3674e-01,  7.7761e-01,  5.3065e-01,\n",
      "          2.1673e-01, -1.3174e-01, -4.7296e-01, -7.6007e-01, -9.4731e-01,\n",
      "         -9.9782e-01, -8.9188e-01, -6.3406e-01, -2.5739e-01,  1.7733e-01,\n",
      "          5.8859e-01,  8.8808e-01,  1.0000e+00,  8.8236e-01,  5.4499e-01,\n",
      "          5.7538e-02, -4.5820e-01, -8.5454e-01, -9.9984e-01, -8.2623e-01,\n",
      "         -3.6686e-01,  2.3584e-01,  7.6382e-01],\n",
      "        [-8.5032e-01, -5.2684e-01, -7.9970e-02,  3.9700e-01,  7.8976e-01,\n",
      "          9.8966e-01,  9.2600e-01,  5.9519e-01,  7.5761e-02, -4.8099e-01,\n",
      "         -8.8929e-01, -9.9078e-01, -7.2200e-01, -1.5993e-01,  4.8274e-01,\n",
      "          9.2727e-01,  9.4957e-01,  5.0488e-01, -2.1226e-01, -8.2945e-01,\n",
      "         -9.8138e-01, -5.3904e-01,  2.5892e-01,  8.9866e-01,  9.1105e-01,\n",
      "          2.3947e-01, -6.3490e-01, -9.9732e-01, -4.9202e-01,  4.7656e-01,\n",
      "          9.9942e-01,  5.1038e-01, -5.3466e-01, -9.9229e-01, -2.7968e-01,\n",
      "          7.9112e-01,  8.4088e-01, -2.6294e-01, -9.9999e-01, -2.3460e-01,\n",
      "          9.0822e-01,  5.5447e-01, -7.6260e-01, -7.0181e-01,  6.8958e-01,\n",
      "          7.1607e-01, -7.3746e-01, -5.9610e-01,  8.8316e-01,  2.8499e-01,\n",
      "         -9.9922e-01,  2.5873e-01,  8.1617e-01, -8.5473e-01, -8.0468e-02,\n",
      "          9.0370e-01, -8.5467e-01,  9.7553e-02,  6.9371e-01, -9.9999e-01,\n",
      "          7.4605e-01, -1.7637e-01, -4.0519e-01,  8.0718e-01, -5.2627e-01,\n",
      "         -8.4996e-01, -9.9680e-01, -9.1782e-01, -6.1342e-01, -1.4346e-01,\n",
      "          3.7753e-01,  8.0358e-01,  9.9713e-01,  8.7673e-01,  4.5733e-01,\n",
      "         -1.3547e-01, -6.9190e-01, -9.8713e-01, -8.7576e-01, -3.7439e-01,\n",
      "          3.1355e-01,  8.6319e-01,  9.7721e-01,  5.5858e-01, -1.9206e-01,\n",
      "         -8.4228e-01, -9.6590e-01, -4.3865e-01,  4.1229e-01,  9.7090e-01,\n",
      "          7.7260e-01, -7.3096e-02, -8.7059e-01, -8.7914e-01, -3.4200e-02,\n",
      "          8.5995e-01,  8.4506e-01, -1.2395e-01, -9.6009e-01, -6.1166e-01,\n",
      "          5.4123e-01,  9.6481e-01,  3.8336e-03, -9.7209e-01, -4.1850e-01,\n",
      "          8.3220e-01,  6.4687e-01, -7.1237e-01, -7.2421e-01,  6.9803e-01,\n",
      "          6.7539e-01, -8.0291e-01, -4.6908e-01,  9.5853e-01,  3.9476e-02,\n",
      "         -9.6595e-01,  5.7781e-01,  5.1907e-01, -9.9676e-01,  4.2816e-01,\n",
      "          5.1918e-01, -9.9523e-01,  7.2026e-01, -4.4977e-03, -6.6589e-01,\n",
      "          9.8432e-01, -9.1423e-01,  5.9031e-01],\n",
      "        [ 7.9682e-01,  8.8289e-01,  9.4787e-01,  9.8799e-01,  9.9982e-01,\n",
      "          9.8050e-01,  9.2799e-01,  8.4134e-01,  7.2094e-01,  5.6878e-01,\n",
      "          3.8869e-01,  1.8646e-01, -3.0099e-02, -2.5123e-01, -4.6545e-01,\n",
      "         -6.6005e-01, -8.2167e-01, -9.3727e-01, -9.9514e-01, -9.8623e-01,\n",
      "         -9.0540e-01, -7.5279e-01, -5.3482e-01, -2.6493e-01,  3.6429e-02,\n",
      "          3.4257e-01,  6.2237e-01,  8.4310e-01,  9.7432e-01,  9.9242e-01,\n",
      "          8.8537e-01,  6.5696e-01,  3.2948e-01, -5.6065e-02, -4.4311e-01,\n",
      "         -7.6657e-01, -9.6347e-01, -9.8606e-01, -8.1512e-01, -4.7010e-01,\n",
      "         -1.2730e-02,  4.5955e-01,  8.3140e-01,  9.9750e-01,  8.9497e-01,\n",
      "          5.3124e-01, -3.8058e-03, -5.5110e-01, -9.2462e-01, -9.7535e-01,\n",
      "         -6.5758e-01, -6.8957e-02,  5.6299e-01,  9.5914e-01,  9.1367e-01,\n",
      "          4.1395e-01, -3.1386e-01, -8.8500e-01, -9.5394e-01, -4.3918e-01,\n",
      "          3.7070e-01,  9.4510e-01,  8.5273e-01,  1.1339e-01, -6.0422e-01,\n",
      "         -4.6958e-01, -3.1864e-01, -1.5449e-01,  1.8872e-02,  1.9651e-01,\n",
      "          3.7260e-01,  5.4051e-01,  6.9300e-01,  8.2249e-01,  9.2137e-01,\n",
      "          9.8246e-01,  9.9955e-01,  9.6793e-01,  8.8507e-01,  7.5122e-01,\n",
      "          5.6996e-01,  3.4861e-01,  9.8455e-02, -1.6541e-01, -4.2456e-01,\n",
      "         -6.5827e-01, -8.4496e-01, -9.6427e-01, -9.9934e-01, -9.3949e-01,\n",
      "         -7.8272e-01, -5.3776e-01, -2.2516e-01,  1.2291e-01,  4.6489e-01,\n",
      "          7.5392e-01,  9.4416e-01,  9.9843e-01,  8.9647e-01,  6.4216e-01,\n",
      "          2.6783e-01, -1.6637e-01, -5.7930e-01, -8.8261e-01, -9.9992e-01,\n",
      "         -8.8815e-01, -5.5568e-01, -7.0675e-02,  4.4612e-01,  8.4722e-01,\n",
      "          9.9999e-01,  8.3444e-01,  3.8090e-01, -2.2067e-01, -7.5338e-01,\n",
      "         -9.9762e-01, -8.2647e-01, -2.8294e-01,  4.0645e-01,  9.1030e-01,\n",
      "          9.4947e-01,  4.6560e-01, -3.0001e-01, -8.9840e-01, -9.2875e-01,\n",
      "         -3.2678e-01,  5.2235e-01,  9.9355e-01]])\n"
     ]
    }
   ],
   "execution_count": 9
  },
  {
   "metadata": {},
   "cell_type": "markdown",
   "source": "### mapping equal to 1",
   "id": "afb378a109ba1a90"
  },
  {
   "metadata": {
    "ExecuteTime": {
     "end_time": "2025-08-18T19:50:43.602143Z",
     "start_time": "2025-08-18T19:50:43.597071Z"
    }
   },
   "cell_type": "code",
   "source": [
    "embedding = embeddings.PositionalEmbedding(2, 1, 6)\n",
    "\n",
    "# Apply the embedding to the coordinates\n",
    "embedded_coords = embedding(coords_rad)\n",
    "print(f\"input shape: {coords_rad.shape}\")\n",
    "print(f\"output shape: {embedded_coords.shape}\")\n",
    "\n",
    "# Print the embedded coordinates\n",
    "print(\"Embedded coordinates:\")\n",
    "print(embedded_coords)"
   ],
   "id": "a17e309147152e94",
   "outputs": [
    {
     "name": "stdout",
     "output_type": "stream",
     "text": [
      "input shape: torch.Size([3, 2])\n",
      "output shape: torch.Size([3, 2])\n",
      "Embedded coordinates:\n",
      "tensor([[-0.7133,  0.7009],\n",
      "        [-0.8503, -0.5263],\n",
      "        [ 0.7968, -0.6042]])\n"
     ]
    }
   ],
   "execution_count": 10
  },
  {
   "metadata": {},
   "cell_type": "markdown",
   "source": "## SphericalCartesianEmbedding",
   "id": "f9f76255f6732103"
  },
  {
   "metadata": {
    "ExecuteTime": {
     "end_time": "2025-08-18T19:50:43.639097Z",
     "start_time": "2025-08-18T19:50:43.635087Z"
    }
   },
   "cell_type": "code",
   "source": "print(embeddings.SphericalCartesianEmbedding.__init__.__doc__)",
   "id": "896f5244a015e637",
   "outputs": [
    {
     "name": "stdout",
     "output_type": "stream",
     "text": [
      "\n",
      "        Initialize the SphericalCartesianEmbedding module.\n",
      "\n",
      "        Following the paper https://arxiv.org/pdf/2306.17624\n",
      "\n",
      "        Output feature dimension: 3 * scale\n",
      "\n",
      "        Args:\n",
      "            scale (int): The number of dimensions in the embeddings.\n",
      "            r_min (float): The minimum radius of the sphere.\n",
      "            r_max (float, optional): The maximum radius of the sphere. Defaults to 1.0.\n",
      "        \n"
     ]
    }
   ],
   "execution_count": 11
  },
  {
   "metadata": {
    "ExecuteTime": {
     "end_time": "2025-08-18T19:50:43.677051Z",
     "start_time": "2025-08-18T19:50:43.672007Z"
    }
   },
   "cell_type": "code",
   "source": [
    "embedding = embeddings.SphericalCartesianEmbedding(2, 0.1)\n",
    "\n",
    "# Apply the embedding to the coordinates\n",
    "embedded_coords = embedding(coords_rad)\n",
    "print(f\"input shape: {coords_rad.shape}\")\n",
    "print(f\"output shape: {embedded_coords.shape}\")\n",
    "\n",
    "# Print the embedded coordinates\n",
    "print(\"Embedded coordinates:\")\n",
    "print(embedded_coords)"
   ],
   "id": "48aadd5cddbbcd95",
   "outputs": [
    {
     "name": "stdout",
     "output_type": "stream",
     "text": [
      "input shape: torch.Size([3, 2])\n",
      "output shape: torch.Size([3, 6])\n",
      "Embedded coordinates:\n",
      "tensor([[ 0.0761,  0.6903,  0.0759,  0.4994,  0.9875,  0.1333],\n",
      "        [-0.0449, -0.4339, -0.0448, -0.3909,  0.9533, -0.8961],\n",
      "        [ 0.0898,  0.7827,  0.0894,  0.4872,  0.9960,  0.6224]])\n"
     ]
    }
   ],
   "execution_count": 12
  },
  {
   "metadata": {},
   "cell_type": "markdown",
   "source": "## SphericalCartesianPlusEmbedding",
   "id": "3843942a2354768b"
  },
  {
   "metadata": {
    "ExecuteTime": {
     "end_time": "2025-08-18T19:50:43.705649Z",
     "start_time": "2025-08-18T19:50:43.700933Z"
    }
   },
   "cell_type": "code",
   "source": "print(embeddings.SphericalCartesianPlusEmbedding.__init__.__doc__)",
   "id": "39272ecb8321fe28",
   "outputs": [
    {
     "name": "stdout",
     "output_type": "stream",
     "text": [
      "\n",
      "        Initialize the SphericalCartesianPlusEmbedding module.\n",
      "\n",
      "        Following the paper https://arxiv.org/pdf/2306.17624.\n",
      "        The output_dim is 6 * scale.\n",
      "\n",
      "        Args:\n",
      "            scale (int): The number of dimensions in the embeddings.\n",
      "            r_min (float): The minimum radius of the sphere.\n",
      "            r_max (float, optional): The maximum radius of the sphere. Defaults to 1.0.\n",
      "        \n"
     ]
    }
   ],
   "execution_count": 13
  },
  {
   "metadata": {
    "ExecuteTime": {
     "end_time": "2025-08-18T19:50:43.748512Z",
     "start_time": "2025-08-18T19:50:43.741954Z"
    }
   },
   "cell_type": "code",
   "source": [
    "embedding = embeddings.SphericalCartesianPlusEmbedding(2, 0.1)\n",
    "\n",
    "# Apply the embedding to the coordinates\n",
    "embedded_coords = embedding(coords_rad)\n",
    "print(f\"input shape: {coords_rad.shape}\")\n",
    "print(f\"output shape: {embedded_coords.shape}\")\n",
    "\n",
    "# Print the embedded coordinates\n",
    "print(\"Embedded coordinates:\")\n",
    "print(embedded_coords)"
   ],
   "id": "e120b95bdb247a3a",
   "outputs": [
    {
     "name": "stdout",
     "output_type": "stream",
     "text": [
      "input shape: torch.Size([3, 2])\n",
      "output shape: torch.Size([3, 12])\n",
      "Embedded coordinates:\n",
      "tensor([[ 7.6116e-02,  6.9029e-01,  9.9710e-01,  7.2353e-01, -1.3811e-01,\n",
      "         -9.8288e-01,  9.9042e-01,  1.8424e-01,  7.5895e-02,  4.9945e-01,\n",
      "          9.8754e-01,  1.3330e-01],\n",
      "        [-4.4862e-02, -4.3386e-01,  9.9899e-01,  9.0098e-01,  2.9905e-01,\n",
      "          1.0442e-01,  9.5424e-01, -9.9453e-01, -4.4817e-02, -3.9090e-01,\n",
      "          9.5328e-01, -8.9605e-01],\n",
      "        [ 8.9776e-02,  7.8269e-01,  9.9596e-01,  6.2241e-01, -2.2305e-04,\n",
      "         -2.2305e-03,  1.0000e+00,  1.0000e+00,  8.9414e-02,  4.8716e-01,\n",
      "          9.9596e-01,  6.2241e-01]])\n"
     ]
    }
   ],
   "execution_count": 14
  },
  {
   "metadata": {},
   "cell_type": "markdown",
   "source": "## SpericalGridEmbedding",
   "id": "aece0010107479a2"
  },
  {
   "metadata": {
    "ExecuteTime": {
     "end_time": "2025-08-18T19:50:43.775264Z",
     "start_time": "2025-08-18T19:50:43.772024Z"
    }
   },
   "cell_type": "code",
   "source": "print(embeddings.SphericalGridEmbedding.__init__.__doc__)",
   "id": "fef1ffdbad65207",
   "outputs": [
    {
     "name": "stdout",
     "output_type": "stream",
     "text": [
      "\n",
      "        Initializes the SphericalGridEmbedding module.\n",
      "\n",
      "        Args:\n",
      "            scale (int): The scale parameter.\n",
      "            r_min (float): The minimum radius.\n",
      "            r_max (float, optional): The maximum radius. Defaults to 1.0.\n",
      "\n",
      "        Following the paper https://arxiv.org/pdf/2306.17624\n",
      "\n",
      "        Output feature dimension: 4 * scale\n",
      "        \n"
     ]
    }
   ],
   "execution_count": 15
  },
  {
   "metadata": {
    "ExecuteTime": {
     "end_time": "2025-08-18T19:50:43.803408Z",
     "start_time": "2025-08-18T19:50:43.797391Z"
    }
   },
   "cell_type": "code",
   "source": [
    "embedding = embeddings.SphericalGridEmbedding(5, 0.1)\n",
    "\n",
    "# Apply the embedding to the coordinates\n",
    "embedded_coords = embedding(coords_rad)\n",
    "print(f\"input shape: {coords_rad.shape}\")\n",
    "print(f\"output shape: {embedded_coords.shape}\")\n",
    "\n",
    "# Print the embedded coordinates\n",
    "print(\"Embedded coordinates:\")\n",
    "print(embedded_coords)"
   ],
   "id": "52e690a9a39ef6b7",
   "outputs": [
    {
     "name": "stdout",
     "output_type": "stream",
     "text": [
      "input shape: torch.Size([3, 2])\n",
      "output shape: torch.Size([3, 20])\n",
      "Embedded coordinates:\n",
      "tensor([[ 7.6116e-02,  1.3507e-01,  2.3861e-01,  4.1546e-01,  6.9029e-01,\n",
      "          9.9710e-01,  9.9084e-01,  9.7112e-01,  9.0961e-01,  7.2353e-01,\n",
      "         -1.3811e-01, -2.4390e-01, -4.2425e-01, -7.0266e-01, -9.8288e-01,\n",
      "          9.9042e-01,  9.6980e-01,  9.0555e-01,  7.1153e-01,  1.8424e-01],\n",
      "        [-4.4862e-02, -7.9720e-02, -1.4144e-01, -2.4969e-01, -4.3386e-01,\n",
      "          9.9899e-01,  9.9682e-01,  9.8995e-01,  9.6832e-01,  9.0098e-01,\n",
      "          2.9905e-01,  5.1419e-01,  8.1941e-01,  9.9063e-01,  1.0442e-01,\n",
      "          9.5424e-01,  8.5768e-01,  5.7321e-01, -1.3659e-01, -9.9453e-01],\n",
      "        [ 8.9776e-02,  1.5918e-01,  2.8047e-01,  4.8427e-01,  7.8269e-01,\n",
      "          9.9596e-01,  9.8725e-01,  9.5986e-01,  8.7492e-01,  6.2241e-01,\n",
      "         -2.2305e-04, -3.9665e-04, -7.0536e-04, -1.2543e-03, -2.2305e-03,\n",
      "          1.0000e+00,  1.0000e+00,  1.0000e+00,  1.0000e+00,  1.0000e+00]])\n"
     ]
    }
   ],
   "execution_count": 16
  },
  {
   "metadata": {},
   "cell_type": "markdown",
   "source": "## SphericalMultiScaleEmbedding",
   "id": "376b5d40496decb8"
  },
  {
   "metadata": {
    "ExecuteTime": {
     "end_time": "2025-08-18T19:50:43.835812Z",
     "start_time": "2025-08-18T19:50:43.832676Z"
    }
   },
   "cell_type": "code",
   "source": "print(embeddings.SphericalMultiScaleEmbedding.__init__.__doc__)",
   "id": "e39eb06cd5392b06",
   "outputs": [
    {
     "name": "stdout",
     "output_type": "stream",
     "text": [
      "\n",
      "        Initialize the SphericalMultiScaleEmbedding module.\n",
      "\n",
      "        Args:\n",
      "            scale (int): The number of dimensions in the embeddings.\n",
      "            r_min (float): The minimum radius of the sphere.\n",
      "            r_max (float, optional): The maximum radius of the sphere. Defaults to 1.0.\n",
      "        \n"
     ]
    }
   ],
   "execution_count": 17
  },
  {
   "metadata": {
    "ExecuteTime": {
     "end_time": "2025-08-18T19:50:43.864724Z",
     "start_time": "2025-08-18T19:50:43.859184Z"
    }
   },
   "cell_type": "code",
   "source": [
    "embedding = embeddings.SphericalMultiScaleEmbedding(2, 0.1)\n",
    "\n",
    "# Apply the embedding to the coordinates\n",
    "embedded_coords = embedding(coords_rad)\n",
    "print(f\"input shape: {coords_rad.shape}\")\n",
    "print(f\"output shape: {embedded_coords.shape}\")\n",
    "\n",
    "# Print the embedded coordinates\n",
    "print(\"Embedded coordinates:\")\n",
    "print(embedded_coords)"
   ],
   "id": "3818f9c09d956012",
   "outputs": [
    {
     "name": "stdout",
     "output_type": "stream",
     "text": [
      "input shape: torch.Size([3, 2])\n",
      "output shape: torch.Size([3, 10])\n",
      "Embedded coordinates:\n",
      "tensor([[ 0.0761,  0.6903,  0.1837,  0.1333,  0.7166,  0.1333, -0.9800, -0.7111,\n",
      "          0.6837,  0.1272],\n",
      "        [-0.0449, -0.4339, -0.9935, -0.8961,  0.8597, -0.8961,  0.1043,  0.0941,\n",
      "         -0.4140,  0.4315],\n",
      "        [ 0.0898,  0.7827,  0.9960,  0.6224,  0.6224,  0.6224, -0.0022, -0.0014,\n",
      "          0.7827,  0.7827]])\n"
     ]
    }
   ],
   "execution_count": 18
  },
  {
   "metadata": {},
   "cell_type": "markdown",
   "source": "## SphericalMultiScalePlusEmbedding",
   "id": "8aaf183077aa20fe"
  },
  {
   "metadata": {
    "ExecuteTime": {
     "end_time": "2025-08-18T19:50:43.887181Z",
     "start_time": "2025-08-18T19:50:43.884150Z"
    }
   },
   "cell_type": "code",
   "source": "print(embeddings.SphericalMultiScalePlusEmbedding.__init__.__doc__)",
   "id": "3a6e5fe116c261e1",
   "outputs": [
    {
     "name": "stdout",
     "output_type": "stream",
     "text": [
      "\n",
      "        Initialize the SphericalMultiscalePlusEmbedding module.\n",
      "        following the paper https://arxiv.org/pdf/2306.17624\n",
      "        output_dim = 8 * scale\n",
      "\n",
      "        Args:\n",
      "            scale (int): The number of dimensions in the embeddings.\n",
      "            r_min (float): The minimum radius of the sphere.\n",
      "            r_max (float, optional): The maximum radius of the sphere. Defaults to 1.0.\n",
      "        \n"
     ]
    }
   ],
   "execution_count": 19
  },
  {
   "metadata": {
    "ExecuteTime": {
     "end_time": "2025-08-18T19:50:43.919966Z",
     "start_time": "2025-08-18T19:50:43.914499Z"
    }
   },
   "cell_type": "code",
   "source": [
    "embedding = embeddings.SphericalMultiScalePlusEmbedding(2, 0.1)\n",
    "\n",
    "# Apply the embedding to the coordinates\n",
    "embedded_coords = embedding(coords_rad)\n",
    "print(f\"input shape: {coords_rad.shape}\")\n",
    "print(f\"output shape: {embedded_coords.shape}\")\n",
    "\n",
    "# Print the embedded coordinates\n",
    "print(\"Embedded coordinates:\")\n",
    "print(embedded_coords)"
   ],
   "id": "694d9d112d033a2",
   "outputs": [
    {
     "name": "stdout",
     "output_type": "stream",
     "text": [
      "input shape: torch.Size([3, 2])\n",
      "output shape: torch.Size([3, 16])\n",
      "Embedded coordinates:\n",
      "tensor([[ 7.6116e-02,  6.9029e-01,  1.8371e-01,  1.3330e-01,  7.1660e-01,\n",
      "          1.3330e-01, -9.8003e-01, -7.1115e-01,  6.8368e-01,  1.2718e-01,\n",
      "          9.9710e-01,  7.2353e-01, -1.3811e-01, -9.8288e-01,  9.9042e-01,\n",
      "          1.8424e-01],\n",
      "        [-4.4862e-02, -4.3386e-01, -9.9353e-01, -8.9605e-01,  8.5975e-01,\n",
      "         -8.9605e-01,  1.0432e-01,  9.4084e-02, -4.1401e-01,  4.3149e-01,\n",
      "          9.9899e-01,  9.0098e-01,  2.9905e-01,  1.0442e-01,  9.5424e-01,\n",
      "         -9.9453e-01],\n",
      "        [ 8.9776e-02,  7.8269e-01,  9.9596e-01,  6.2241e-01,  6.2241e-01,\n",
      "          6.2241e-01, -2.2215e-03, -1.3883e-03,  7.8269e-01,  7.8269e-01,\n",
      "          9.9596e-01,  6.2241e-01, -2.2305e-04, -2.2305e-03,  1.0000e+00,\n",
      "          1.0000e+00]])\n"
     ]
    }
   ],
   "execution_count": 20
  },
  {
   "metadata": {
    "ExecuteTime": {
     "end_time": "2025-08-18T19:50:44.109535Z",
     "start_time": "2025-08-18T19:50:44.104041Z"
    }
   },
   "cell_type": "code",
   "source": "embedding.out_features",
   "id": "db3d26dd0d54ca2a",
   "outputs": [
    {
     "data": {
      "text/plain": [
       "16"
      ]
     },
     "execution_count": 21,
     "metadata": {},
     "output_type": "execute_result"
    }
   ],
   "execution_count": 21
  }
 ],
 "metadata": {
  "kernelspec": {
   "display_name": "Python 3",
   "language": "python",
   "name": "python3"
  },
  "language_info": {
   "codemirror_mode": {
    "name": "ipython",
    "version": 2
   },
   "file_extension": ".py",
   "mimetype": "text/x-python",
   "name": "python",
   "nbconvert_exporter": "python",
   "pygments_lexer": "ipython2",
   "version": "2.7.6"
  }
 },
 "nbformat": 4,
 "nbformat_minor": 5
}
