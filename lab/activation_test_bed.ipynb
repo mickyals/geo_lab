{
 "cells": [
  {
   "cell_type": "code",
   "id": "initial_id",
   "metadata": {
    "collapsed": true,
    "ExecuteTime": {
     "end_time": "2025-08-16T22:09:50.635781Z",
     "start_time": "2025-08-16T22:09:49.054527Z"
    }
   },
   "source": [
    "import torch\n",
    "import inspect\n",
    "from models.coordinate_models.core import activations\n",
    "from models.coordinate_models.core.activations import generate_alpha"
   ],
   "outputs": [],
   "execution_count": 1
  },
  {
   "metadata": {
    "ExecuteTime": {
     "end_time": "2025-08-16T22:09:50.651478Z",
     "start_time": "2025-08-16T22:09:50.641474Z"
    }
   },
   "cell_type": "code",
   "source": [
    "\n",
    "functions = [name for name, obj in inspect.getmembers(activations, inspect.isfunction)]\n",
    "classes = [name for name, obj in inspect.getmembers(activations, inspect.isclass)]\n",
    "\n",
    "print(\"Functions:\", functions)\n",
    "print(\"Classes:\", classes)"
   ],
   "id": "adfe0b073b55258e",
   "outputs": [
    {
     "name": "stdout",
     "output_type": "stream",
     "text": [
      "Functions: ['generate_alpha']\n",
      "Classes: ['gaussian_activation', 'gaussian_finer', 'hosc_activation', 'hosc_finer', 'sinc_activation', 'sine_activation', 'sine_finer', 'wire_activation', 'wire_finer']\n"
     ]
    }
   ],
   "execution_count": 2
  },
  {
   "metadata": {
    "ExecuteTime": {
     "end_time": "2025-08-16T22:09:50.789186Z",
     "start_time": "2025-08-16T22:09:50.775282Z"
    }
   },
   "cell_type": "code",
   "source": "print(activations.generate_alpha.__doc__)",
   "id": "f12af622d324f6b9",
   "outputs": [
    {
     "name": "stdout",
     "output_type": "stream",
     "text": [
      "\n",
      "    Calculate the absolute value of the input tensor plus 1.\n",
      "\n",
      "    Args:\n",
      "        x (torch.Tensor): Input tensor.\n",
      "\n",
      "    Returns:\n",
      "        torch.Tensor: Tensor with the absolute value of x plus 1.\n",
      "\n",
      "    Note:\n",
      "        This function is used to generate a scaling factor for activations.\n",
      "    \n"
     ]
    }
   ],
   "execution_count": 3
  },
  {
   "metadata": {
    "ExecuteTime": {
     "end_time": "2025-08-16T22:09:50.880281Z",
     "start_time": "2025-08-16T22:09:50.864342Z"
    }
   },
   "cell_type": "code",
   "source": "test_input = torch.randn(2,3)",
   "id": "f89b25aeb2299def",
   "outputs": [],
   "execution_count": 4
  },
  {
   "metadata": {},
   "cell_type": "markdown",
   "source": "## SINE ACTIVATION",
   "id": "e4b178d49d66d880"
  },
  {
   "metadata": {
    "ExecuteTime": {
     "end_time": "2025-08-16T22:09:50.911665Z",
     "start_time": "2025-08-16T22:09:50.896799Z"
    }
   },
   "cell_type": "code",
   "source": [
    "act = activations.sine_activation(omega=30)\n",
    "output = act(test_input)\n",
    "\n",
    "print(\"Input shape:\", test_input.shape)\n",
    "print(\"Input values:\", test_input)\n",
    "print(\"Output shape:\", output.shape)\n",
    "print(\"Output values:\", output)"
   ],
   "id": "73bbd34fc9d4aa14",
   "outputs": [
    {
     "name": "stdout",
     "output_type": "stream",
     "text": [
      "Input shape: torch.Size([2, 3])\n",
      "Input values: tensor([[ 0.4041,  0.3400,  0.7471],\n",
      "        [ 0.3589,  0.5552, -0.5332]])\n",
      "Output shape: torch.Size([2, 3])\n",
      "Output values: tensor([[-0.4278, -0.6996, -0.4106],\n",
      "        [-0.9739, -0.8131,  0.2837]])\n"
     ]
    }
   ],
   "execution_count": 5
  },
  {
   "metadata": {
    "ExecuteTime": {
     "end_time": "2025-08-16T22:09:50.942520Z",
     "start_time": "2025-08-16T22:09:50.929409Z"
    }
   },
   "cell_type": "code",
   "source": "print(activations.sine_activation.__doc__)",
   "id": "aa422622a77c33d8",
   "outputs": [
    {
     "name": "stdout",
     "output_type": "stream",
     "text": [
      "\n",
      "    Sine activation module.\n",
      "\n",
      "    Applies a sine activation function to the input tensor.\n",
      "\n",
      "    Attributes:\n",
      "        omega (float): The frequency parameter of the sine function.\n",
      "    \n"
     ]
    }
   ],
   "execution_count": 6
  },
  {
   "metadata": {},
   "cell_type": "markdown",
   "source": "## FINER SINE ACTIVATION",
   "id": "b6eaddc37e42213f"
  },
  {
   "metadata": {
    "ExecuteTime": {
     "end_time": "2025-08-16T22:09:50.973379Z",
     "start_time": "2025-08-16T22:09:50.958868Z"
    }
   },
   "cell_type": "code",
   "source": [
    "act = activations.sine_finer(omega=30)\n",
    "output = act(test_input)\n",
    "\n",
    "print(\"Input shape:\", test_input.shape)\n",
    "print(\"Input values:\", test_input)\n",
    "print(\"Output shape:\", output.shape)\n",
    "print(\"Output values:\", output)"
   ],
   "id": "faa4463a9714bb7",
   "outputs": [
    {
     "name": "stdout",
     "output_type": "stream",
     "text": [
      "Input shape: torch.Size([2, 3])\n",
      "Input values: tensor([[ 0.4041,  0.3400,  0.7471],\n",
      "        [ 0.3589,  0.5552, -0.5332]])\n",
      "Output shape: torch.Size([2, 3])\n",
      "Output values: tensor([[-0.9678,  0.8917,  0.9941],\n",
      "        [ 0.8808,  0.6987,  0.5716]])\n"
     ]
    }
   ],
   "execution_count": 7
  },
  {
   "metadata": {
    "ExecuteTime": {
     "end_time": "2025-08-16T22:09:51.004731Z",
     "start_time": "2025-08-16T22:09:50.990790Z"
    }
   },
   "cell_type": "code",
   "source": "print(activations.sine_finer.__doc__)",
   "id": "b9226c29e0da29ea",
   "outputs": [
    {
     "name": "stdout",
     "output_type": "stream",
     "text": [
      "\n",
      "    Sine activation module with a finer scale.\n",
      "\n",
      "    Applies a sine activation function to the input tensor with a finer scale.\n",
      "\n",
      "    Attributes:\n",
      "        omega (float): The frequency parameter of the sine function.\n",
      "    \n"
     ]
    }
   ],
   "execution_count": 8
  },
  {
   "metadata": {},
   "cell_type": "markdown",
   "source": "## GAUSSIAN ACTIVATION",
   "id": "963ad06b5fa3004d"
  },
  {
   "metadata": {
    "ExecuteTime": {
     "end_time": "2025-08-16T22:09:51.034841Z",
     "start_time": "2025-08-16T22:09:51.022101Z"
    }
   },
   "cell_type": "code",
   "source": [
    "act = activations.gaussian_activation(sigma=2)\n",
    "output = act(test_input)\n",
    "\n",
    "print(\"Input shape:\", test_input.shape)\n",
    "print(\"Input values:\", test_input)\n",
    "print(\"Output shape:\", output.shape)\n",
    "print(\"Output values:\", output)"
   ],
   "id": "7debc418b1eb053d",
   "outputs": [
    {
     "name": "stdout",
     "output_type": "stream",
     "text": [
      "Input shape: torch.Size([2, 3])\n",
      "Input values: tensor([[ 0.4041,  0.3400,  0.7471],\n",
      "        [ 0.3589,  0.5552, -0.5332]])\n",
      "Output shape: torch.Size([2, 3])\n",
      "Output values: tensor([[0.5203, 0.6298, 0.1072],\n",
      "        [0.5974, 0.2914, 0.3207]])\n"
     ]
    }
   ],
   "execution_count": 9
  },
  {
   "metadata": {
    "ExecuteTime": {
     "end_time": "2025-08-16T22:09:51.065773Z",
     "start_time": "2025-08-16T22:09:51.052446Z"
    }
   },
   "cell_type": "code",
   "source": "print(activations.gaussian_activation.__doc__)",
   "id": "e74acceafbc7dd84",
   "outputs": [
    {
     "name": "stdout",
     "output_type": "stream",
     "text": [
      "\n",
      "    Gaussian activation module.\n",
      "\n",
      "    Applies a Gaussian activation function to the input tensor.\n",
      "\n",
      "    Attributes:\n",
      "        sigma (float): The standard deviation parameter of the Gaussian function.\n",
      "    \n"
     ]
    }
   ],
   "execution_count": 10
  },
  {
   "metadata": {},
   "cell_type": "markdown",
   "source": "## FINER GAUSSIAN ACTIVATION",
   "id": "3d218ea696e7f2f3"
  },
  {
   "metadata": {
    "ExecuteTime": {
     "end_time": "2025-08-16T22:09:51.096564Z",
     "start_time": "2025-08-16T22:09:51.082686Z"
    }
   },
   "cell_type": "code",
   "source": [
    "act = activations.gaussian_finer(sigma=10, omega=5)\n",
    "output = act(test_input)\n",
    "\n",
    "print(\"Input shape:\", test_input.shape)\n",
    "print(\"Input values:\", test_input)\n",
    "print(\"Output shape:\", output.shape)\n",
    "print(\"Output values:\", output)"
   ],
   "id": "985da0b5776a6e21",
   "outputs": [
    {
     "name": "stdout",
     "output_type": "stream",
     "text": [
      "Input shape: torch.Size([2, 3])\n",
      "Input values: tensor([[ 0.4041,  0.3400,  0.7471],\n",
      "        [ 0.3589,  0.5552, -0.5332]])\n",
      "Output shape: torch.Size([2, 3])\n",
      "Output values: tensor([[0.6984, 0.0991, 0.7924],\n",
      "        [0.1878, 0.0331, 0.0720]])\n"
     ]
    }
   ],
   "execution_count": 11
  },
  {
   "metadata": {
    "ExecuteTime": {
     "end_time": "2025-08-16T22:09:51.127387Z",
     "start_time": "2025-08-16T22:09:51.112424Z"
    }
   },
   "cell_type": "code",
   "source": "print(activations.gaussian_finer.__doc__)",
   "id": "6f0effac9085d4a2",
   "outputs": [
    {
     "name": "stdout",
     "output_type": "stream",
     "text": [
      "\n",
      "    GaussianFiner activation module.\n",
      "\n",
      "    Applies a Gaussian activation function to the input tensor with a finer scale.\n",
      "\n",
      "    Attributes:\n",
      "        sigma (float): The standard deviation parameter of the Gaussian function.\n",
      "        omega (float): The frequency parameter of the Gaussian function.\n",
      "    \n"
     ]
    }
   ],
   "execution_count": 12
  },
  {
   "metadata": {},
   "cell_type": "markdown",
   "source": "## WIRE ACTIVATION\n",
   "id": "cd2e7680be551189"
  },
  {
   "metadata": {
    "ExecuteTime": {
     "end_time": "2025-08-16T22:09:51.158903Z",
     "start_time": "2025-08-16T22:09:51.144772Z"
    }
   },
   "cell_type": "code",
   "source": [
    "act = activations.wire_activation(omega_0=5, sigma_0=2.5)\n",
    "output = act(test_input)\n",
    "\n",
    "print(\"Input shape:\", test_input.shape)\n",
    "print(\"Input values:\", test_input)\n",
    "print(\"Output shape:\", output.shape)\n",
    "print(\"Output values:\", output)"
   ],
   "id": "99dce205031f96d5",
   "outputs": [
    {
     "name": "stdout",
     "output_type": "stream",
     "text": [
      "Input shape: torch.Size([2, 3])\n",
      "Input values: tensor([[ 0.4041,  0.3400,  0.7471],\n",
      "        [ 0.3589,  0.5552, -0.5332]])\n",
      "Output shape: torch.Size([2, 3])\n",
      "Output values: tensor([[-0.1567+0.3244j, -0.0625+0.4815j, -0.0253-0.0171j],\n",
      "        [-0.0992+0.4360j, -0.1360+0.0520j, -0.1504-0.0775j]])\n"
     ]
    }
   ],
   "execution_count": 13
  },
  {
   "metadata": {
    "ExecuteTime": {
     "end_time": "2025-08-16T22:09:51.189714Z",
     "start_time": "2025-08-16T22:09:51.176021Z"
    }
   },
   "cell_type": "code",
   "source": "print(activations.wire_activation.__doc__)",
   "id": "3e63d2f1a623040b",
   "outputs": [
    {
     "name": "stdout",
     "output_type": "stream",
     "text": [
      "\n",
      "    Wire activation module.\n",
      "\n",
      "    Applies the wire activation function to the input tensor.\n",
      "\n",
      "    Attributes:\n",
      "        omega_0 (float): The frequency parameter of the wire activation function.\n",
      "        sigma_0 (float): The standard deviation parameter of the wire activation function.\n",
      "    \n"
     ]
    }
   ],
   "execution_count": 14
  },
  {
   "metadata": {},
   "cell_type": "markdown",
   "source": "## FINER WIRE ACTIVATION    ",
   "id": "a8154c5669899299"
  },
  {
   "metadata": {
    "ExecuteTime": {
     "end_time": "2025-08-16T22:09:51.221079Z",
     "start_time": "2025-08-16T22:09:51.207325Z"
    }
   },
   "cell_type": "code",
   "source": [
    "act = activations.wire_finer(omega_0=30, sigma_0=15, omega_finer=5)\n",
    "output = act(test_input)\n",
    "\n",
    "print(\"Input shape:\", test_input.shape)\n",
    "print(\"Input values:\", test_input)\n",
    "print(\"Output shape:\", output.shape)\n",
    "print(\"Output values:\", output)"
   ],
   "id": "80dd7397bada72a7",
   "outputs": [
    {
     "name": "stdout",
     "output_type": "stream",
     "text": [
      "Input shape: torch.Size([2, 3])\n",
      "Input values: tensor([[ 0.4041,  0.3400,  0.7471],\n",
      "        [ 0.3589,  0.5552, -0.5332]])\n",
      "Output shape: torch.Size([2, 3])\n",
      "Output values: tensor([[-0.1001+4.3454e-01j, -0.0008-5.4441e-03j,  0.0730+5.8782e-01j],\n",
      "        [-0.0172-1.5618e-02j,  0.0003+3.1634e-04j,  0.0004-2.6564e-03j]])\n"
     ]
    }
   ],
   "execution_count": 15
  },
  {
   "metadata": {
    "ExecuteTime": {
     "end_time": "2025-08-16T22:09:51.252071Z",
     "start_time": "2025-08-16T22:09:51.238382Z"
    }
   },
   "cell_type": "code",
   "source": "print(activations.wire_finer.__doc__)",
   "id": "8d31cd40f240c6a4",
   "outputs": [
    {
     "name": "stdout",
     "output_type": "stream",
     "text": [
      "\n",
      "    WireFiner activation module.\n",
      "\n",
      "    Applies the wire activation function to the input tensor with a finer scale.\n",
      "\n",
      "    Attributes:\n",
      "        omega_0 (float): The frequency parameter of the wire activation function.\n",
      "        sigma_0 (float): The standard deviation parameter of the wire activation function.\n",
      "        omega_finer (float): The frequency parameter of the finer scale wire activation function.\n",
      "    \n"
     ]
    }
   ],
   "execution_count": 16
  },
  {
   "metadata": {},
   "cell_type": "markdown",
   "source": "## HYPERBOLIC ACTIVATION",
   "id": "b043907f7eab2973"
  },
  {
   "metadata": {
    "ExecuteTime": {
     "end_time": "2025-08-16T22:09:51.282298Z",
     "start_time": "2025-08-16T22:09:51.268767Z"
    }
   },
   "cell_type": "code",
   "source": [
    "act = activations.hosc_activation(beta=2)\n",
    "output = act(test_input)\n",
    "\n",
    "print(\"Input shape:\", test_input.shape)\n",
    "print(\"Input values:\", test_input)\n",
    "print(\"Output shape:\", output.shape)\n",
    "print(\"Output values:\", output)"
   ],
   "id": "cc365840f8bd35ff",
   "outputs": [
    {
     "name": "stdout",
     "output_type": "stream",
     "text": [
      "Input shape: torch.Size([2, 3])\n",
      "Input values: tensor([[ 0.4041,  0.3400,  0.7471],\n",
      "        [ 0.3589,  0.5552, -0.5332]])\n",
      "Output shape: torch.Size([2, 3])\n",
      "Output values: tensor([[ 0.6564,  0.5830,  0.8762],\n",
      "        [ 0.6059,  0.7835, -0.7685]])\n"
     ]
    }
   ],
   "execution_count": 17
  },
  {
   "metadata": {
    "ExecuteTime": {
     "end_time": "2025-08-16T22:09:51.311978Z",
     "start_time": "2025-08-16T22:09:51.304178Z"
    }
   },
   "cell_type": "code",
   "source": "print(activations.hosc_activation.__doc__)",
   "id": "f42d8e0ea7423c72",
   "outputs": [
    {
     "name": "stdout",
     "output_type": "stream",
     "text": [
      "\n",
      "    Hyperbolic Sine activation module.\n",
      "\n",
      "    Applies a hyperbolic sine activation function to the input tensor.\n",
      "\n",
      "    Attributes:\n",
      "        beta (float): The scaling parameter of the hyperbolic sine function.\n",
      "    \n"
     ]
    }
   ],
   "execution_count": 18
  },
  {
   "metadata": {},
   "cell_type": "markdown",
   "source": "## FINER HYPERBOLIC ACTIVATION",
   "id": "5360968d511e213"
  },
  {
   "metadata": {
    "ExecuteTime": {
     "end_time": "2025-08-16T22:09:51.344124Z",
     "start_time": "2025-08-16T22:09:51.330156Z"
    }
   },
   "cell_type": "code",
   "source": [
    "act = activations.hosc_finer(beta=10, omega=30)\n",
    "output = act(test_input)\n",
    "\n",
    "print(\"Input shape:\", test_input.shape)\n",
    "print(\"Input values:\", test_input)\n",
    "print(\"Output shape:\", output.shape)\n",
    "print(\"Output values:\", output)"
   ],
   "id": "30caf6b14ffe4849",
   "outputs": [
    {
     "name": "stdout",
     "output_type": "stream",
     "text": [
      "Input shape: torch.Size([2, 3])\n",
      "Input values: tensor([[ 0.4041,  0.3400,  0.7471],\n",
      "        [ 0.3589,  0.5552, -0.5332]])\n",
      "Output shape: torch.Size([2, 3])\n",
      "Output values: tensor([[-0.3118,  0.2888,  0.3197],\n",
      "        [ 0.2854,  0.2288,  0.1882]])\n"
     ]
    }
   ],
   "execution_count": 19
  },
  {
   "metadata": {
    "ExecuteTime": {
     "end_time": "2025-08-16T22:09:51.375921Z",
     "start_time": "2025-08-16T22:09:51.362225Z"
    }
   },
   "cell_type": "code",
   "source": "print(activations.hosc_finer.__doc__)",
   "id": "ccd6531694d12f86",
   "outputs": [
    {
     "name": "stdout",
     "output_type": "stream",
     "text": [
      "\n",
      "    Hyperbolic sine activation module with a finer scale.\n",
      "\n",
      "    Applies a hyperbolic sine activation function to the input tensor with a finer scale.\n",
      "\n",
      "    Attributes:\n",
      "        beta (float): The scaling parameter of the hyperbolic sine function.\n",
      "        omega (float): The frequency parameter of the hyperbolic sine function.\n",
      "    \n"
     ]
    }
   ],
   "execution_count": 20
  },
  {
   "metadata": {},
   "cell_type": "markdown",
   "source": "## SINC ACTIVATION",
   "id": "ea2570b2d9980f1f"
  },
  {
   "metadata": {
    "ExecuteTime": {
     "end_time": "2025-08-16T22:09:51.406777Z",
     "start_time": "2025-08-16T22:09:51.393089Z"
    }
   },
   "cell_type": "code",
   "source": [
    "act = activations.sinc_activation(omega=30)\n",
    "output = act(test_input)\n",
    "\n",
    "print(\"Input shape:\", test_input.shape)\n",
    "print(\"Input values:\", test_input)\n",
    "print(\"Output shape:\", output.shape)\n",
    "print(\"Output values:\", output)"
   ],
   "id": "e6f995e6e7f6b1d",
   "outputs": [
    {
     "name": "stdout",
     "output_type": "stream",
     "text": [
      "Input shape: torch.Size([2, 3])\n",
      "Input values: tensor([[ 0.4041,  0.3400,  0.7471],\n",
      "        [ 0.3589,  0.5552, -0.5332]])\n",
      "Output shape: torch.Size([2, 3])\n",
      "Output values: tensor([[ 0.0100,  0.0183,  0.0137],\n",
      "        [ 0.0198,  0.0168, -0.0003]])\n"
     ]
    }
   ],
   "execution_count": 21
  },
  {
   "metadata": {
    "ExecuteTime": {
     "end_time": "2025-08-16T22:09:51.437497Z",
     "start_time": "2025-08-16T22:09:51.423838Z"
    }
   },
   "cell_type": "code",
   "source": "print(activations.sinc_activation.__doc__)",
   "id": "bdbe82a35c634bcc",
   "outputs": [
    {
     "name": "stdout",
     "output_type": "stream",
     "text": [
      "\n",
      "    Sinc activation module.\n",
      "\n",
      "    Applies a sinc activation function to the input tensor.\n",
      "\n",
      "    Attributes:\n",
      "        omega (float): The frequency parameter of the sinc function.\n",
      "    \n"
     ]
    }
   ],
   "execution_count": 22
  },
  {
   "metadata": {
    "ExecuteTime": {
     "end_time": "2025-08-16T22:09:51.468177Z",
     "start_time": "2025-08-16T22:09:51.454571Z"
    }
   },
   "cell_type": "code",
   "source": "",
   "id": "795b10be8e03e0d5",
   "outputs": [],
   "execution_count": null
  }
 ],
 "metadata": {
  "kernelspec": {
   "display_name": "Python (geo_lab)",
   "language": "python",
   "name": "geo_lab"
  },
  "language_info": {
   "codemirror_mode": {
    "name": "ipython",
    "version": 2
   },
   "file_extension": ".py",
   "mimetype": "text/x-python",
   "name": "python",
   "nbconvert_exporter": "python",
   "pygments_lexer": "ipython2",
   "version": "2.7.6"
  }
 },
 "nbformat": 4,
 "nbformat_minor": 5
}
